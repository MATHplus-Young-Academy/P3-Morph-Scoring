{
 "cells": [
  {
   "cell_type": "code",
   "execution_count": 1,
   "id": "952ebc50-656c-4845-8d7a-c2c8dfbda684",
   "metadata": {},
   "outputs": [
    {
     "name": "stdout",
     "output_type": "stream",
     "text": [
      "(2280,)\n"
     ]
    },
    {
     "name": "stderr",
     "output_type": "stream",
     "text": [
      "/opt/conda/lib/python3.9/site-packages/pyvista/plotting/plotting.py:122: UserWarning: \n",
      "This system does not appear to be running an xserver.\n",
      "PyVista will likely segfault when rendering.\n",
      "\n",
      "Try starting a virtual frame buffer with xvfb, or using\n",
      "  ``pyvista.start_xvfb()``\n",
      "\n",
      "  warnings.warn('\\n'\n"
     ]
    },
    {
     "data": {
      "application/vnd.jupyter.widget-view+json": {
       "model_id": "75a3210ca10645b485057ada1c7c5297",
       "version_major": 2,
       "version_minor": 0
      },
      "text/plain": [
       "AppLayout(children=(VBox(children=(HTML(value='<h3></h3>'), Dropdown(description='Colormap:', options={'BrBG':…"
      ]
     },
     "metadata": {},
     "output_type": "display_data"
    }
   ],
   "source": [
    "import os\n",
    "import sys\n",
    "import inspect\n",
    "import numpy as np\n",
    "import matplotlib.pyplot as plt\n",
    "import pyvista as pv\n",
    "from sklearn.preprocessing import normalize\n",
    "from utils import runSVMClassification, plotClassificationResults\n",
    "\n",
    "currentdir = os.path.dirname(os.path.abspath(inspect.getfile(inspect.currentframe())))\n",
    "parentdir = os.path.dirname(currentdir)\n",
    "sys.path.insert(0, parentdir)\n",
    "\n",
    "from morphomatics_med.geom import Surface\n",
    "from morphomatics_med.manifold import FundamentalCoords, PointDistributionModel, util\n",
    "from morphomatics_med.stats import StatisticalShapeModel\n",
    "\n",
    "median = np.load(\"./mesh_median.npy\")\n",
    "mean = np.load(\"./mesh_mean.npy\")\n",
    "\n",
    "#load faces indices\n",
    "mesh = pv.read(\"/mnt/materials/SIRF/MathPlusBerlin/DATA/adni_hippos_hackathon/AD/test/10064.obj\")\n",
    "\n",
    "# align\n",
    "from morphomatics_med.manifold.util import align\n",
    "\n",
    "median = align(median, mean)\n",
    "\n",
    "# calculate difference\n",
    "diff = np.linalg.norm(median - mean, axis = 1)\n",
    "print(diff.shape)\n",
    "\n",
    "pl = pv.Plotter(notebook = True)\n",
    "pl.add_mesh(pv.PolyData(median, mesh.faces), smooth_shading=True, scalars = diff, cmap = \"viridis\")\n",
    "pl.view_yx()\n",
    "pl.camera.roll += 180\n",
    "pl.show(jupyter_backend = 'ipygany')\n"
   ]
  },
  {
   "cell_type": "code",
   "execution_count": null,
   "id": "47df4572-b389-4c60-897c-e610667522ed",
   "metadata": {},
   "outputs": [],
   "source": []
  }
 ],
 "metadata": {
  "kernelspec": {
   "display_name": "Python 3 (ipykernel)",
   "language": "python",
   "name": "python3"
  },
  "language_info": {
   "codemirror_mode": {
    "name": "ipython",
    "version": 3
   },
   "file_extension": ".py",
   "mimetype": "text/x-python",
   "name": "python",
   "nbconvert_exporter": "python",
   "pygments_lexer": "ipython3",
   "version": "3.9.10"
  }
 },
 "nbformat": 4,
 "nbformat_minor": 5
}
