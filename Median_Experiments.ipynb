{
 "cells": [
  {
   "cell_type": "code",
   "execution_count": 2,
   "id": "e1f5c644-4c4a-4f3e-a519-b25b0d97e81d",
   "metadata": {},
   "outputs": [],
   "source": [
    "import os\n",
    "import numpy as np\n",
    "import pyvista as pv\n"
   ]
  },
  {
   "cell_type": "code",
   "execution_count": 3,
   "id": "792cf13f-eb4b-4867-8e67-214fa6887389",
   "metadata": {},
   "outputs": [],
   "source": [
    "import sys, os\n",
    "sys.path.append(os.path.abspath('./'))\n",
    "from morphomatics_med.geom import Surface\n",
    "from morphomatics_med.manifold import FundamentalCoords, PointDistributionModel, util\n",
    "from morphomatics_med.stats import StatisticalShapeModel"
   ]
  },
  {
   "cell_type": "code",
   "execution_count": 4,
   "id": "7377b5a0-55d0-4bb5-b9d2-148cfe5e1648",
   "metadata": {},
   "outputs": [
    {
     "name": "stdout",
     "output_type": "stream",
     "text": [
      "|grad|=0.24699974518997692\n",
      "|grad|=0.02249042467471462\n",
      "|grad|=0.002028661532539132\n",
      "|grad|=0.0002702889901795674\n",
      "|grad|=4.235173441378412e-05\n",
      "|grad|=7.3845320846117815e-06\n",
      "|grad|=1.4142460893065558e-06\n",
      "|grad|=2.903805858858013e-07\n",
      "|grad|=6.211658091952155e-08\n",
      "|grad|=1.356355974838917e-08\n",
      "|grad|=2.989848498192957e-09\n",
      "|grad|=6.618258983678922e-10\n",
      "|grad|=1.4676796243935455e-10\n",
      "|grad|=3.257339517427791e-11\n",
      "|grad|=7.2317645398923445e-12\n",
      "|grad|=1.6057995300755142e-12\n",
      "|grad|=3.5658576884785554e-13\n",
      "9.966787949864091\n",
      "|grad|=0.018297363431722335\n",
      "|grad|=0.00025775760437551546\n",
      "|grad|=4.3783249653219935e-05\n",
      "|grad|=8.389828820892325e-06\n",
      "|grad|=1.723449054942252e-06\n",
      "|grad|=3.678438410709784e-07\n",
      "|grad|=7.99939881729e-08\n",
      "|grad|=1.754479912966388e-08\n",
      "|grad|=3.862441715583771e-09\n",
      "|grad|=8.516794498801708e-10\n",
      "|grad|=1.879277601017315e-10\n",
      "|grad|=4.147957153019508e-11\n",
      "|grad|=9.15655626402386e-12\n",
      "|grad|=2.0214148837876473e-12\n",
      "|grad|=4.4625692294275436e-13\n",
      "0.20720969119518307\n",
      "|grad|=0.028319595732311187\n",
      "|grad|=0.0003196803249881881\n",
      "|grad|=4.711079135099468e-05\n",
      "|grad|=8.282091668621922e-06\n",
      "|grad|=1.6088827668898207e-06\n",
      "|grad|=3.326201191666491e-07\n",
      "|grad|=7.117702162908936e-08\n",
      "|grad|=1.549335890412158e-08\n",
      "|grad|=3.3993757039546452e-09\n",
      "|grad|=7.485311183562821e-10\n",
      "|grad|=1.650882739249274e-10\n",
      "|grad|=3.6436178637353496e-11\n",
      "|grad|=8.044301310469816e-12\n",
      "|grad|=1.7762583152295678e-12\n",
      "|grad|=3.922361826446239e-13\n",
      "0.008816468614679912\n",
      "|grad|=0.02825989194712736\n",
      "|grad|=0.0003139614317796104\n",
      "|grad|=4.7101210567344324e-05\n",
      "|grad|=8.555926611362186e-06\n",
      "|grad|=1.7090177935698214e-06\n",
      "|grad|=3.595047106977569e-07\n",
      "|grad|=7.763420580734311e-08\n",
      "|grad|=1.6973050289744708e-08\n",
      "|grad|=3.731492669559352e-09\n",
      "|grad|=8.22382102903028e-10\n",
      "|grad|=1.81440337295984e-10\n",
      "|grad|=4.004975981662451e-11\n",
      "|grad|=8.842116467333813e-12\n",
      "|grad|=1.952324672490462e-12\n",
      "|grad|=4.3108664084727663e-13\n",
      "0.0005664370615804466\n",
      "tol 0.006683843450775681 reached\n",
      "|grad|=0.24249589362780652\n",
      "|grad|=0.022500895473446178\n",
      "|grad|=0.002096815686180704\n",
      "|grad|=0.00028207264016866116\n",
      "|grad|=4.3419441319602606e-05\n",
      "|grad|=7.286481871801371e-06\n",
      "|grad|=1.3325380544785536e-06\n",
      "|grad|=2.6300368419009625e-07\n",
      "|grad|=5.473591377431362e-08\n",
      "|grad|=1.174168102878198e-08\n",
      "|grad|=2.5576785985161775e-09\n",
      "|grad|=5.612223261662815e-10\n",
      "|grad|=1.235656900499712e-10\n",
      "|grad|=2.724834781963939e-11\n",
      "|grad|=6.0130609900644485e-12\n",
      "|grad|=1.3273793969159344e-12\n",
      "|grad|=2.9306666942900005e-13\n"
     ]
    }
   ],
   "source": [
    "# max number of objects (for debugging and dev)\n",
    "nObjects=10\n",
    "dataPath = \"/mnt/materials/SIRF/MathPlusBerlin/DATA/adni_hippos_hackathon/\"\n",
    "# load all data\n",
    "meshes = []\n",
    "for (dirpath, dirnames, filenames) in os.walk(dataPath+\"AD\"):\n",
    "    for file in filenames:\n",
    "        if file[-3:] == \"obj\" and nObjects > len(meshes):\n",
    "            path = os.sep.join([dirpath, file])\n",
    "            mesh = pv.read(path)\n",
    "            meshes.append(mesh)\n",
    "\n",
    "for (dirpath, dirnames, filenames) in os.walk(dataPath+\"CN\"):\n",
    "    for file in filenames:\n",
    "        if file[-3:] == \"obj\" and nObjects > len(meshes):\n",
    "            path = os.sep.join([dirpath, file])\n",
    "            load = mesh_straight = pv.read(path)\n",
    "            meshes.append(load)\n",
    "\n",
    "# to Surface type\n",
    "as_surface = lambda mesh: Surface(mesh.points, mesh.faces.reshape(-1, 4)[:, 1:])\n",
    "surfaces = [as_surface(m) for m in meshes]\n",
    "\n",
    "# construct model\n",
    "SSM = StatisticalShapeModel(lambda ref: FundamentalCoords(ref)) # replace me with PointDistributionModel\n",
    "SSM.construct(surfaces)"
   ]
  },
  {
   "cell_type": "code",
   "execution_count": 6,
   "id": "2ee28f7a-3f96-44a0-b701-d5030bba5eae",
   "metadata": {},
   "outputs": [
    {
     "data": {
      "application/vnd.jupyter.widget-view+json": {
       "model_id": "f07ed61b86224f438b1e315a1a31776b",
       "version_major": 2,
       "version_minor": 0
      },
      "text/plain": [
       "Scene(background_color='#4c4c4c', camera={'position': [118.82195453820972, -90.83484944023971, 68.556644112381…"
      ]
     },
     "metadata": {},
     "output_type": "display_data"
    }
   ],
   "source": [
    "# show mean\n",
    "pl = pv.Plotter(notebook=True)\n",
    "pl.add_mesh(pv.PolyData(SSM.mean.v, meshes[0].faces))\n",
    "pl.view_yx()\n",
    "pl.camera.roll += 180\n",
    "pl.show(jupyter_backend='ipygany')"
   ]
  },
  {
   "cell_type": "code",
   "execution_count": null,
   "id": "f3789d68-98d9-4c79-a25c-ca7da000ace9",
   "metadata": {},
   "outputs": [],
   "source": []
  }
 ],
 "metadata": {
  "kernelspec": {
   "display_name": "Python 3 (ipykernel)",
   "language": "python",
   "name": "python3"
  },
  "language_info": {
   "codemirror_mode": {
    "name": "ipython",
    "version": 3
   },
   "file_extension": ".py",
   "mimetype": "text/x-python",
   "name": "python",
   "nbconvert_exporter": "python",
   "pygments_lexer": "ipython3",
   "version": "3.9.10"
  }
 },
 "nbformat": 4,
 "nbformat_minor": 5
}
