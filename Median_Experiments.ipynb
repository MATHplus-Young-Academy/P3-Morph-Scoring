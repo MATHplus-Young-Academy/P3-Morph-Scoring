{
 "cells": [
  {
   "cell_type": "code",
   "execution_count": 2,
   "id": "e1f5c644-4c4a-4f3e-a519-b25b0d97e81d",
   "metadata": {},
   "outputs": [],
   "source": [
    "import os\n",
    "import numpy as np\n",
    "import pyvista as pv\n"
   ]
  },
  {
   "cell_type": "code",
   "execution_count": 3,
   "id": "792cf13f-eb4b-4867-8e67-214fa6887389",
   "metadata": {},
   "outputs": [],
   "source": [
    "import sys, os\n",
    "sys.path.append(os.path.abspath('./'))\n",
    "from morphomatics_med.geom import Surface\n",
    "from morphomatics_med.manifold import FundamentalCoords, PointDistributionModel, util\n",
    "from morphomatics_med.stats import StatisticalShapeModel"
   ]
  },
  {
   "cell_type": "code",
   "execution_count": 4,
   "id": "7377b5a0-55d0-4bb5-b9d2-148cfe5e1648",
   "metadata": {},
   "outputs": [
    {
     "name": "stdout",
     "output_type": "stream",
     "text": [
      "|grad|=0.2397391430137443\n",
      "|grad|=0.0009564107294780166\n",
      "|grad|=2.4561595037871118e-06\n",
      "|grad|=2.8440123055417324e-08\n",
      "|grad|=4.0954989322699295e-10\n",
      "|grad|=6.125792899673078e-12\n",
      "|grad|=9.409060531128419e-14\n",
      "9.377399291617715\n",
      "|grad|=0.019884990493805495\n",
      "|grad|=3.2280571531448046e-05\n",
      "|grad|=3.2945348108301744e-07\n",
      "|grad|=4.366021670522016e-09\n",
      "|grad|=6.611715339535289e-11\n",
      "|grad|=1.0812418536741545e-12\n",
      "|grad|=1.8507169838627738e-14\n",
      "0.1606334690067069\n",
      "|grad|=0.031728708334617974\n",
      "|grad|=4.5086254228975425e-05\n",
      "|grad|=4.201266442400802e-07\n",
      "|grad|=5.2599583022718255e-09\n",
      "|grad|=7.628892448373834e-11\n",
      "|grad|=1.1967229017399617e-12\n",
      "|grad|=1.9676547320718322e-14\n",
      "0.01440858121041893\n",
      "|grad|=0.03170312163817694\n",
      "|grad|=4.479532456768046e-05\n",
      "|grad|=4.17829758878935e-07\n",
      "|grad|=5.233306458372749e-09\n",
      "|grad|=7.58408990690279e-11\n",
      "|grad|=1.1879422454163161e-12\n",
      "|grad|=1.949675624275182e-14\n",
      "0.0007388793557080392\n",
      "tol 0.006683843450775681 reached\n",
      "|grad|=0.23782100447242374\n",
      "|grad|=0.000861771795673105\n",
      "|grad|=2.4179836850112295e-06\n",
      "|grad|=2.828374013141288e-08\n",
      "|grad|=4.090185899369289e-10\n",
      "|grad|=6.116382756330987e-12\n",
      "|grad|=9.346911636790242e-14\n"
     ]
    }
   ],
   "source": [
    "# max number of objects (for debugging and dev)\n",
    "nObjects=1000\n",
    "dataPath = \"/mnt/materials/SIRF/MathPlusBerlin/DATA/adni_hippos_hackathon/\"\n",
    "# load all data\n",
    "meshes = []\n",
    "for (dirpath, dirnames, filenames) in os.walk(dataPath+\"AD\"):\n",
    "    for file in filenames:\n",
    "        if file[-3:] == \"obj\" and nObjects > len(meshes):\n",
    "            path = os.sep.join([dirpath, file])\n",
    "            mesh = pv.read(path)\n",
    "            meshes.append(mesh)\n",
    "\n",
    "for (dirpath, dirnames, filenames) in os.walk(dataPath+\"CN\"):\n",
    "    for file in filenames:\n",
    "        if file[-3:] == \"obj\" and nObjects > len(meshes):\n",
    "            path = os.sep.join([dirpath, file])\n",
    "            load = mesh_straight = pv.read(path)\n",
    "            meshes.append(load)\n",
    "\n",
    "# to Surface type\n",
    "as_surface = lambda mesh: Surface(mesh.points, mesh.faces.reshape(-1, 4)[:, 1:])\n",
    "surfaces = [as_surface(m) for m in meshes]\n",
    "\n",
    "# construct model\n",
    "SSM = StatisticalShapeModel(lambda ref: FundamentalCoords(ref)) # replace me with PointDistributionModel\n",
    "SSM.construct(surfaces)"
   ]
  },
  {
   "cell_type": "code",
   "execution_count": 1,
   "id": "2ee28f7a-3f96-44a0-b701-d5030bba5eae",
   "metadata": {},
   "outputs": [
    {
     "ename": "NameError",
     "evalue": "name 'pv' is not defined",
     "output_type": "error",
     "traceback": [
      "\u001b[0;31m---------------------------------------------------------------------------\u001b[0m",
      "\u001b[0;31mNameError\u001b[0m                                 Traceback (most recent call last)",
      "Input \u001b[0;32mIn [1]\u001b[0m, in \u001b[0;36m<module>\u001b[0;34m\u001b[0m\n\u001b[1;32m      1\u001b[0m \u001b[38;5;66;03m# show mean\u001b[39;00m\n\u001b[0;32m----> 2\u001b[0m pl \u001b[38;5;241m=\u001b[39m \u001b[43mpv\u001b[49m\u001b[38;5;241m.\u001b[39mPlotter(notebook\u001b[38;5;241m=\u001b[39m\u001b[38;5;28;01mTrue\u001b[39;00m)\n\u001b[1;32m      3\u001b[0m pl\u001b[38;5;241m.\u001b[39madd_mesh(pv\u001b[38;5;241m.\u001b[39mPolyData(SSM\u001b[38;5;241m.\u001b[39mmean\u001b[38;5;241m.\u001b[39mv, meshes[\u001b[38;5;241m0\u001b[39m]\u001b[38;5;241m.\u001b[39mfaces))\n\u001b[1;32m      4\u001b[0m pl\u001b[38;5;241m.\u001b[39mview_yx()\n",
      "\u001b[0;31mNameError\u001b[0m: name 'pv' is not defined"
     ]
    }
   ],
   "source": [
    "# show mean\n",
    "pl = pv.Plotter(notebook=True)\n",
    "pl.add_mesh(pv.PolyData(SSM.mean.v, meshes[0].faces))\n",
    "pl.view_yx()\n",
    "pl.camera.roll += 180\n",
    "pl.show(jupyter_backend='static')"
   ]
  },
  {
   "cell_type": "code",
   "execution_count": null,
   "id": "f3789d68-98d9-4c79-a25c-ca7da000ace9",
   "metadata": {},
   "outputs": [],
   "source": []
  }
 ],
 "metadata": {
  "kernelspec": {
   "display_name": "Python 3 (ipykernel)",
   "language": "python",
   "name": "python3"
  },
  "language_info": {
   "codemirror_mode": {
    "name": "ipython",
    "version": 3
   },
   "file_extension": ".py",
   "mimetype": "text/x-python",
   "name": "python",
   "nbconvert_exporter": "python",
   "pygments_lexer": "ipython3",
   "version": "3.9.10"
  }
 },
 "nbformat": 4,
 "nbformat_minor": 5
}
