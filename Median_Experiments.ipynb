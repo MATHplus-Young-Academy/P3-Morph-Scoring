{
 "cells": [
  {
   "cell_type": "code",
   "execution_count": 1,
   "id": "e1f5c644-4c4a-4f3e-a519-b25b0d97e81d",
   "metadata": {},
   "outputs": [],
   "source": [
    "import os\n",
    "import numpy as np\n",
    "import pyvista as pv\n"
   ]
  },
  {
   "cell_type": "code",
   "execution_count": 2,
   "id": "792cf13f-eb4b-4867-8e67-214fa6887389",
   "metadata": {},
   "outputs": [],
   "source": [
    "import sys, os\n",
    "sys.path.append(os.path.abspath('./'))\n",
    "from morphomatics_med.geom import Surface\n",
    "from morphomatics_med.manifold import FundamentalCoords, PointDistributionModel, util\n",
    "from morphomatics_med.stats import StatisticalShapeModel"
   ]
  },
  {
   "cell_type": "code",
   "execution_count": 3,
   "id": "7377b5a0-55d0-4bb5-b9d2-148cfe5e1648",
   "metadata": {},
   "outputs": [
    {
     "ename": "AttributeError",
     "evalue": "'FundamentalCoords' object has no attribute 'connect'",
     "output_type": "error",
     "traceback": [
      "\u001b[0;31m---------------------------------------------------------------------------\u001b[0m",
      "\u001b[0;31mAttributeError\u001b[0m                            Traceback (most recent call last)",
      "Input \u001b[0;32mIn [3]\u001b[0m, in \u001b[0;36m<module>\u001b[0;34m\u001b[0m\n\u001b[1;32m     24\u001b[0m \u001b[38;5;66;03m# construct model\u001b[39;00m\n\u001b[1;32m     25\u001b[0m SSM \u001b[38;5;241m=\u001b[39m StatisticalShapeModel(\u001b[38;5;28;01mlambda\u001b[39;00m ref: FundamentalCoords(ref)) \u001b[38;5;66;03m# replace me with PointDistributionModel\u001b[39;00m\n\u001b[0;32m---> 26\u001b[0m \u001b[43mSSM\u001b[49m\u001b[38;5;241;43m.\u001b[39;49m\u001b[43mconstruct\u001b[49m\u001b[43m(\u001b[49m\u001b[43msurfaces\u001b[49m\u001b[43m)\u001b[49m\n",
      "File \u001b[0;32m~/P3-Morph-Scoring/morphomatics_med/stats/StatisticalShapeModel.py:49\u001b[0m, in \u001b[0;36mStatisticalShapeModel.construct\u001b[0;34m(self, surfaces)\u001b[0m\n\u001b[1;32m     43\u001b[0m \u001b[38;5;124;03m'''\u001b[39;00m\n\u001b[1;32m     44\u001b[0m \u001b[38;5;124;03mConstruct model.\u001b[39;00m\n\u001b[1;32m     45\u001b[0m \u001b[38;5;124;03m:arg surfaces: list of surfaces\u001b[39;00m\n\u001b[1;32m     46\u001b[0m \u001b[38;5;124;03m'''\u001b[39;00m\n\u001b[1;32m     48\u001b[0m \u001b[38;5;66;03m# compute mean / setup manifold space (s.t. mean agrees to reference)\u001b[39;00m\n\u001b[0;32m---> 49\u001b[0m \u001b[38;5;28;43mself\u001b[39;49m\u001b[38;5;241;43m.\u001b[39;49m\u001b[43msetupShapeSpace\u001b[49m\u001b[43m(\u001b[49m\u001b[43msurfaces\u001b[49m\u001b[43m)\u001b[49m\n\u001b[1;32m     50\u001b[0m coords \u001b[38;5;241m=\u001b[39m [\u001b[38;5;28mself\u001b[39m\u001b[38;5;241m.\u001b[39mspace\u001b[38;5;241m.\u001b[39mto_coords(S\u001b[38;5;241m.\u001b[39mv) \u001b[38;5;28;01mfor\u001b[39;00m S \u001b[38;5;129;01min\u001b[39;00m surfaces]\n\u001b[1;32m     51\u001b[0m \u001b[38;5;28mself\u001b[39m\u001b[38;5;241m.\u001b[39mmean_coords \u001b[38;5;241m=\u001b[39m Mean\u001b[38;5;241m.\u001b[39mcompute(\u001b[38;5;28mself\u001b[39m\u001b[38;5;241m.\u001b[39mspace, coords)\n",
      "File \u001b[0;32m~/P3-Morph-Scoring/morphomatics_med/stats/StatisticalShapeModel.py:74\u001b[0m, in \u001b[0;36mStatisticalShapeModel.setupShapeSpace\u001b[0;34m(self, surfaces, max_outer, max_inner)\u001b[0m\n\u001b[1;32m     71\u001b[0m tol \u001b[38;5;241m=\u001b[39m mean\u001b[38;5;241m.\u001b[39mv\u001b[38;5;241m.\u001b[39mstd(axis\u001b[38;5;241m=\u001b[39m\u001b[38;5;241m0\u001b[39m)\u001b[38;5;241m.\u001b[39mmean() \u001b[38;5;241m/\u001b[39m \u001b[38;5;241m1000\u001b[39m\n\u001b[1;32m     72\u001b[0m \u001b[38;5;28;01mfor\u001b[39;00m _ \u001b[38;5;129;01min\u001b[39;00m \u001b[38;5;28mrange\u001b[39m(max_outer):\n\u001b[1;32m     73\u001b[0m     \u001b[38;5;66;03m# compute mean in manifold space\u001b[39;00m\n\u001b[0;32m---> 74\u001b[0m     x \u001b[38;5;241m=\u001b[39m \u001b[43mMean\u001b[49m\u001b[38;5;241;43m.\u001b[39;49m\u001b[43mcompute\u001b[49m\u001b[43m(\u001b[49m\u001b[43mspace\u001b[49m\u001b[43m,\u001b[49m\u001b[43m \u001b[49m\u001b[43m[\u001b[49m\u001b[43mspace\u001b[49m\u001b[38;5;241;43m.\u001b[39;49m\u001b[43mto_coords\u001b[49m\u001b[43m(\u001b[49m\u001b[43mS\u001b[49m\u001b[38;5;241;43m.\u001b[39;49m\u001b[43mv\u001b[49m\u001b[43m)\u001b[49m\u001b[43m \u001b[49m\u001b[38;5;28;43;01mfor\u001b[39;49;00m\u001b[43m \u001b[49m\u001b[43mS\u001b[49m\u001b[43m \u001b[49m\u001b[38;5;129;43;01min\u001b[39;49;00m\u001b[43m \u001b[49m\u001b[43msurfaces\u001b[49m\u001b[43m]\u001b[49m\u001b[43m,\u001b[49m\u001b[43m \u001b[49m\u001b[43mx\u001b[49m\u001b[38;5;241;43m=\u001b[39;49m\u001b[43mspace\u001b[49m\u001b[38;5;241;43m.\u001b[39;49m\u001b[43mref_coords\u001b[49m\u001b[43m \u001b[49m\u001b[38;5;28;43;01mif\u001b[39;49;00m\u001b[43m \u001b[49m\u001b[38;5;28;43mlen\u001b[39;49m\u001b[43m(\u001b[49m\u001b[43msurfaces\u001b[49m\u001b[43m)\u001b[49m\u001b[43m \u001b[49m\u001b[38;5;241;43m>\u001b[39;49m\u001b[43m \u001b[49m\u001b[38;5;241;43m2\u001b[39;49m\u001b[43m \u001b[49m\u001b[38;5;28;43;01melse\u001b[39;49;00m\u001b[43m \u001b[49m\u001b[38;5;28;43;01mNone\u001b[39;49;00m\u001b[43m,\u001b[49m\u001b[43m \u001b[49m\u001b[43mmax_iter\u001b[49m\u001b[38;5;241;43m=\u001b[39;49m\u001b[43mmax_inner\u001b[49m\u001b[43m)\u001b[49m\n\u001b[1;32m     76\u001b[0m     \u001b[38;5;66;03m# compute vertex coordinates of mean\u001b[39;00m\n\u001b[1;32m     77\u001b[0m     v \u001b[38;5;241m=\u001b[39m space\u001b[38;5;241m.\u001b[39mfrom_coords(x)\n",
      "File \u001b[0;32m~/P3-Morph-Scoring/morphomatics_med/stats/ExponentialBarycenter.py:56\u001b[0m, in \u001b[0;36mExponentialBarycenter.compute\u001b[0;34m(mfd, data, x, max_iter, n_jobs, alpha)\u001b[0m\n\u001b[1;32m     47\u001b[0m \u001b[38;5;66;03m# compute intrinsic mean\u001b[39;00m\n\u001b[1;32m     48\u001b[0m \u001b[38;5;66;03m#cost = lambda a: 0.5 / len(data) * np.sum([mfd.metric.dist(a, b) ** 2 for b in data])\u001b[39;00m\n\u001b[1;32m     49\u001b[0m \u001b[38;5;66;03m#grad = lambda a: np.sum([mfd.connec.log(a, b) for b in data], axis=0) / len(data)\u001b[39;00m\n\u001b[0;32m   (...)\u001b[0m\n\u001b[1;32m     53\u001b[0m \n\u001b[1;32m     54\u001b[0m \u001b[38;5;66;03m# Newton-type fixed point iteration\u001b[39;00m\n\u001b[1;32m     55\u001b[0m \u001b[38;5;28;01mwith\u001b[39;00m Parallel(n_jobs\u001b[38;5;241m=\u001b[39mn_jobs, prefer\u001b[38;5;241m=\u001b[39m\u001b[38;5;124m'\u001b[39m\u001b[38;5;124mthreads\u001b[39m\u001b[38;5;124m'\u001b[39m, verbose\u001b[38;5;241m=\u001b[39m\u001b[38;5;241m0\u001b[39m) \u001b[38;5;28;01mas\u001b[39;00m parallel:\n\u001b[0;32m---> 56\u001b[0m     list_log \u001b[38;5;241m=\u001b[39m [mfd\u001b[38;5;241m.\u001b[39mconnect\u001b[38;5;241m.\u001b[39mlog(x,b) \u001b[38;5;28;01mfor\u001b[39;00m b \u001b[38;5;129;01min\u001b[39;00m data]\n\u001b[1;32m     57\u001b[0m     normed_log \u001b[38;5;241m=\u001b[39m \u001b[38;5;28;01mlambda\u001b[39;00m a : mfd\u001b[38;5;241m.\u001b[39mconnec\u001b[38;5;241m.\u001b[39mlog(a[\u001b[38;5;241m0\u001b[39m],a[\u001b[38;5;241m1\u001b[39m])\u001b[38;5;241m/\u001b[39mmfd\u001b[38;5;241m.\u001b[39mmetric\u001b[38;5;241m.\u001b[39mdist(a[\u001b[38;5;241m0\u001b[39m],a[\u001b[38;5;241m1\u001b[39m])\n\u001b[1;32m     58\u001b[0m     grad \u001b[38;5;241m=\u001b[39m \u001b[38;5;28;01mlambda\u001b[39;00m a: np\u001b[38;5;241m.\u001b[39msum(parallel(delayed(normed_log)((a, b))\n\u001b[1;32m     59\u001b[0m                                      \u001b[38;5;28;01mfor\u001b[39;00m b \u001b[38;5;129;01min\u001b[39;00m data \u001b[38;5;28;01mif\u001b[39;00m mfd\u001b[38;5;241m.\u001b[39mmetric\u001b[38;5;241m.\u001b[39mdist(a,b) \u001b[38;5;241m>\u001b[39m \u001b[38;5;241m0\u001b[39m), axis\u001b[38;5;241m=\u001b[39m\u001b[38;5;241m0\u001b[39m)\n",
      "File \u001b[0;32m~/P3-Morph-Scoring/morphomatics_med/stats/ExponentialBarycenter.py:56\u001b[0m, in \u001b[0;36m<listcomp>\u001b[0;34m(.0)\u001b[0m\n\u001b[1;32m     47\u001b[0m \u001b[38;5;66;03m# compute intrinsic mean\u001b[39;00m\n\u001b[1;32m     48\u001b[0m \u001b[38;5;66;03m#cost = lambda a: 0.5 / len(data) * np.sum([mfd.metric.dist(a, b) ** 2 for b in data])\u001b[39;00m\n\u001b[1;32m     49\u001b[0m \u001b[38;5;66;03m#grad = lambda a: np.sum([mfd.connec.log(a, b) for b in data], axis=0) / len(data)\u001b[39;00m\n\u001b[0;32m   (...)\u001b[0m\n\u001b[1;32m     53\u001b[0m \n\u001b[1;32m     54\u001b[0m \u001b[38;5;66;03m# Newton-type fixed point iteration\u001b[39;00m\n\u001b[1;32m     55\u001b[0m \u001b[38;5;28;01mwith\u001b[39;00m Parallel(n_jobs\u001b[38;5;241m=\u001b[39mn_jobs, prefer\u001b[38;5;241m=\u001b[39m\u001b[38;5;124m'\u001b[39m\u001b[38;5;124mthreads\u001b[39m\u001b[38;5;124m'\u001b[39m, verbose\u001b[38;5;241m=\u001b[39m\u001b[38;5;241m0\u001b[39m) \u001b[38;5;28;01mas\u001b[39;00m parallel:\n\u001b[0;32m---> 56\u001b[0m     list_log \u001b[38;5;241m=\u001b[39m [\u001b[43mmfd\u001b[49m\u001b[38;5;241;43m.\u001b[39;49m\u001b[43mconnect\u001b[49m\u001b[38;5;241m.\u001b[39mlog(x,b) \u001b[38;5;28;01mfor\u001b[39;00m b \u001b[38;5;129;01min\u001b[39;00m data]\n\u001b[1;32m     57\u001b[0m     normed_log \u001b[38;5;241m=\u001b[39m \u001b[38;5;28;01mlambda\u001b[39;00m a : mfd\u001b[38;5;241m.\u001b[39mconnec\u001b[38;5;241m.\u001b[39mlog(a[\u001b[38;5;241m0\u001b[39m],a[\u001b[38;5;241m1\u001b[39m])\u001b[38;5;241m/\u001b[39mmfd\u001b[38;5;241m.\u001b[39mmetric\u001b[38;5;241m.\u001b[39mdist(a[\u001b[38;5;241m0\u001b[39m],a[\u001b[38;5;241m1\u001b[39m])\n\u001b[1;32m     58\u001b[0m     grad \u001b[38;5;241m=\u001b[39m \u001b[38;5;28;01mlambda\u001b[39;00m a: np\u001b[38;5;241m.\u001b[39msum(parallel(delayed(normed_log)((a, b))\n\u001b[1;32m     59\u001b[0m                                      \u001b[38;5;28;01mfor\u001b[39;00m b \u001b[38;5;129;01min\u001b[39;00m data \u001b[38;5;28;01mif\u001b[39;00m mfd\u001b[38;5;241m.\u001b[39mmetric\u001b[38;5;241m.\u001b[39mdist(a,b) \u001b[38;5;241m>\u001b[39m \u001b[38;5;241m0\u001b[39m), axis\u001b[38;5;241m=\u001b[39m\u001b[38;5;241m0\u001b[39m)\n",
      "\u001b[0;31mAttributeError\u001b[0m: 'FundamentalCoords' object has no attribute 'connect'"
     ]
    }
   ],
   "source": [
    "# max number of objects (for debugging and dev)\n",
    "nObjects=1000\n",
    "dataPath = \"/mnt/materials/SIRF/MathPlusBerlin/DATA/adni_hippos_hackathon/\"\n",
    "# load all data\n",
    "meshes = []\n",
    "for (dirpath, dirnames, filenames) in os.walk(dataPath+\"AD\"):\n",
    "    for file in filenames:\n",
    "        if file[-3:] == \"obj\" and nObjects > len(meshes):\n",
    "            path = os.sep.join([dirpath, file])\n",
    "            mesh = pv.read(path)\n",
    "            meshes.append(mesh)\n",
    "\n",
    "for (dirpath, dirnames, filenames) in os.walk(dataPath+\"CN\"):\n",
    "    for file in filenames:\n",
    "        if file[-3:] == \"obj\" and nObjects > len(meshes):\n",
    "            path = os.sep.join([dirpath, file])\n",
    "            load = mesh_straight = pv.read(path)\n",
    "            meshes.append(load)\n",
    "\n",
    "# to Surface type\n",
    "as_surface = lambda mesh: Surface(mesh.points, mesh.faces.reshape(-1, 4)[:, 1:])\n",
    "surfaces = [as_surface(m) for m in meshes]\n",
    "\n",
    "# construct model\n",
    "SSM = StatisticalShapeModel(lambda ref: FundamentalCoords(ref)) # replace me with PointDistributionModel\n",
    "SSM.construct(surfaces)"
   ]
  },
  {
   "cell_type": "code",
   "execution_count": null,
   "id": "2ee28f7a-3f96-44a0-b701-d5030bba5eae",
   "metadata": {},
   "outputs": [],
   "source": [
    "# show mean\n",
    "pl = pv.Plotter(notebook=True)\n",
    "pl.add_mesh(pv.PolyData(SSM.mean.v, meshes[0].faces))\n",
    "pl.view_yx()\n",
    "pl.camera.roll += 180\n",
    "pl.show(jupyter_backend='static')"
   ]
  },
  {
   "cell_type": "code",
   "execution_count": null,
   "id": "f3789d68-98d9-4c79-a25c-ca7da000ace9",
   "metadata": {},
   "outputs": [],
   "source": []
  }
 ],
 "metadata": {
  "kernelspec": {
   "display_name": "Python 3 (ipykernel)",
   "language": "python",
   "name": "python3"
  },
  "language_info": {
   "codemirror_mode": {
    "name": "ipython",
    "version": 3
   },
   "file_extension": ".py",
   "mimetype": "text/x-python",
   "name": "python",
   "nbconvert_exporter": "python",
   "pygments_lexer": "ipython3",
   "version": "3.9.10"
  }
 },
 "nbformat": 4,
 "nbformat_minor": 5
}
