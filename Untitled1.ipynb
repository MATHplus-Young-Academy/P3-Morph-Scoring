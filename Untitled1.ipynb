{
 "cells": [
  {
   "cell_type": "code",
   "execution_count": 10,
   "metadata": {},
   "outputs": [],
   "source": [
    "import os\n",
    "import pyvista as pv\n",
    "import numpy as np\n",
    "from morphomatics.geom import Surface\n",
    "from morphomatics.manifold import FundamentalCoords, PointDistributionModel, util\n",
    "from morphomatics.stats import StatisticalShapeModel\n",
    "from morphomatics.stats import ExponentialBarycenter"
   ]
  },
  {
   "cell_type": "code",
   "execution_count": 3,
   "metadata": {},
   "outputs": [],
   "source": [
    "training_objects = []\n",
    "count_s = 0\n",
    "for (dirpath, dirnames, filenames) in os.walk(\"./adni_hippos_hackathon/AD/train\"):\n",
    "    for file in filenames:\n",
    "        if file[-3:] == \"obj\":\n",
    "            path = os.sep.join([dirpath, file])\n",
    "            load = mesh_straight = pv.read(path)\n",
    "            training_objects.append(load)\n",
    "            count_s+=1"
   ]
  },
  {
   "cell_type": "code",
   "execution_count": 4,
   "metadata": {},
   "outputs": [],
   "source": [
    "count_h = 0\n",
    "for (dirpath, dirnames, filenames) in os.walk(\"./adni_hippos_hackathon/CN\"):\n",
    "    for file in filenames:\n",
    "        if file[-3:] == \"obj\":\n",
    "            path = os.sep.join([dirpath, file])\n",
    "            load = mesh_helix = pv.read(path)\n",
    "            training_objects.append(load)\n",
    "            count_h+=1"
   ]
  },
  {
   "cell_type": "code",
   "execution_count": 9,
   "metadata": {},
   "outputs": [
    {
     "name": "stdout",
     "output_type": "stream",
     "text": [
      "|grad|=0.23428924808212354\n",
      "|grad|=0.0002202769960513517\n",
      "|grad|=2.328332153390333e-06\n",
      "|grad|=3.27002034310858e-08\n",
      "|grad|=5.093364711138844e-10\n",
      "|grad|=8.454220071252458e-12\n",
      "|grad|=1.4640984986128212e-13\n",
      "7.777043555452749\n",
      "|grad|=0.020590597112786675\n",
      "|grad|=3.569972781969578e-05\n",
      "|grad|=4.1063556797375097e-07\n",
      "|grad|=6.039802988853258e-09\n",
      "|grad|=9.984096656351588e-11\n",
      "|grad|=1.7550021797675093e-12\n",
      "|grad|=3.1893817817759346e-14\n",
      "0.1854054798116865\n",
      "|grad|=0.032326177802251874\n",
      "|grad|=4.71161398797223e-05\n",
      "|grad|=4.5669665135787553e-07\n",
      "|grad|=6.004640603765344e-09\n",
      "|grad|=9.188306622386378e-11\n",
      "|grad|=1.5231026486376375e-12\n",
      "|grad|=2.645176067387615e-14\n",
      "0.017642112760135793\n",
      "|grad|=0.03232363970268449\n",
      "|grad|=4.6865428612256384e-05\n",
      "|grad|=4.561851375285552e-07\n",
      "|grad|=6.015243609981663e-09\n",
      "|grad|=9.213929152183343e-11\n",
      "|grad|=1.5275192496328323e-12\n",
      "|grad|=2.652305955662529e-14\n",
      "0.0009158373069122405\n",
      "tol 0.005966196437635873 reached\n",
      "|grad|=0.23452422054697802\n",
      "|grad|=0.0002137633516514612\n",
      "|grad|=2.289268347964855e-06\n",
      "|grad|=3.288070231427138e-08\n",
      "|grad|=5.221124664424096e-10\n",
      "|grad|=8.77871528279843e-12\n",
      "|grad|=1.530259639382452e-13\n"
     ]
    }
   ],
   "source": [
    "# to Surface type\n",
    "as_surface = lambda mesh: Surface(mesh.points, mesh.faces.reshape(-1, 4)[:, 1:])\n",
    "surfaces = [as_surface(m) for m in training_objects]\n",
    "\n",
    "# construct model\n",
    "SSM = StatisticalShapeModel(lambda ref: FundamentalCoords(ref)) # replace me with PointDistributionModel\n",
    "SSM.construct(surfaces)"
   ]
  },
  {
   "cell_type": "code",
   "execution_count": null,
   "metadata": {},
   "outputs": [],
   "source": [
    "class MSVM:\n",
    "    def __init__(self,SSM,targets,data,k = 0.5,la = 0.5):\n",
    "        self.SSM = SSM\n",
    "        self.targets = targets\n",
    "        self.data = [SSM.space.to_coords(surfaces[i].v)for i in range(len(data))]\n",
    "        self.k = k\n",
    "        self.la = la\n",
    "        self.n = len(self.data)\n",
    "        self.c1 = self.data[0] # class with targets 1\n",
    "        self.c2 = self.data[-1] #class with targets -1\n",
    "    \n",
    "    def mean_func(self,c1,c2):\n",
    "        #c1 = c[:int(len(c)/2)][0]\n",
    "        #print(type(c1),np.shape(c1))\n",
    "        #c2 = c[int(len(c)/2):][0]\n",
    "        print('c2',type(c2),np.shape(c2))\n",
    "        print('data',type(self.data[0]),np.shape(self.data[0]))\n",
    "        h = [self.k - self.targets[i]*(self.SSM.space.metric.dist(c2,self.data[i])**2 - self.SSM.space.metric.dist(c1,self.data[i])**2) for i in range(len(self.data))]\n",
    "        return self.SSM.space.metric.dist(c1, c2)**2 + self.la/self.n*np.sum(h)\n",
    "    \n",
    "    def minim(self,c10,c20,max_reps = 50):\n",
    "        self.c1 = c10\n",
    "        self.c2 = c20\n",
    "        for reps in range(max_reps):\n",
    "            print('reps',reps)\n",
    "            grad1 = -2*self.SSM.space.connec.log(self.c1,self.c2) + self.la/self.n*np.sum([self.targets[i]*2*SSM.space.connec.log(self.c1,self.data[i]) for i in range(self.n)])\n",
    "            self.c1 -= grad1\n",
    "            print('grad1',self.SMM.space.metric.norm(grad1))\n",
    "            grad2 = -2*self.SSM.space.connec.log(self.c2,self.c1) - self.la/self.n*np.sum([self.targets[i]*2*SSM.space.connec.log(self.c2,self.data[i]) for i in range(self.n)])\n",
    "            self.c2 -= grad2\n",
    "            print('grad2',self.SMM.space.metric.norm(grad2))\n",
    "            print('loss',self.loss(self.data,self.targets))\n",
    "    \n",
    "    def classify_one(self,datapoint):\n",
    "        if self.SSM.space.metric.dist(self.c1, datapoint) < self.SSM.space.metric.dist(datapoint, self.c2):\n",
    "            return 1 # belogs to c1\n",
    "        else:\n",
    "            return -1 # belogs to c2\n",
    "    \n",
    "    def classify_list(self,datalist):\n",
    "        return [self.classify_one(a) for a in datalist]\n",
    "    \n",
    "    def loss(self,datalist,targetlist):\n",
    "        return np.sum([self.classify_one(datalist[i])*targetlist[i] for i in range(len(datalist))])"
   ]
  },
  {
   "cell_type": "code",
   "execution_count": null,
   "metadata": {},
   "outputs": [],
   "source": [
    "targets = [1 for _ in range(count_s)]+[-1 for _ in range(count_h)]\n",
    "data = surfaces\n",
    "msvm = MSVM(SSM,targets,data)"
   ]
  },
  {
   "cell_type": "code",
   "execution_count": null,
   "metadata": {},
   "outputs": [],
   "source": [
    "init1 = SSM.space.to_coords(surfaces[0].v)\n",
    "init2 = SSM.space.to_coords(surfaces[-1].v)\n",
    "\n",
    "msvm.minim(c10=init1,c20=init2, max_reps=100)"
   ]
  },
  {
   "cell_type": "code",
   "execution_count": null,
   "metadata": {},
   "outputs": [],
   "source": []
  }
 ],
 "metadata": {
  "kernelspec": {
   "display_name": "Python 3 (ipykernel)",
   "language": "python",
   "name": "python3"
  },
  "language_info": {
   "codemirror_mode": {
    "name": "ipython",
    "version": 3
   },
   "file_extension": ".py",
   "mimetype": "text/x-python",
   "name": "python",
   "nbconvert_exporter": "python",
   "pygments_lexer": "ipython3",
   "version": "3.10.2"
  }
 },
 "nbformat": 4,
 "nbformat_minor": 2
}
