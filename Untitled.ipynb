{
 "cells": [
  {
   "cell_type": "code",
   "execution_count": 1,
   "id": "e000e9a4",
   "metadata": {},
   "outputs": [],
   "source": [
    "import os\n",
    "import pyvista as pv"
   ]
  },
  {
   "cell_type": "code",
   "execution_count": 2,
   "id": "c74cd592",
   "metadata": {},
   "outputs": [],
   "source": [
    "import numpy as np"
   ]
  },
  {
   "cell_type": "code",
   "execution_count": 3,
   "id": "9615506f",
   "metadata": {},
   "outputs": [],
   "source": [
    "objects = []\n",
    "count_s = 0\n",
    "for (dirpath, dirnames, filenames) in os.walk(\"./adni_hippos_hackathon/AD\"):\n",
    "    for file in filenames:\n",
    "        if file[-3:] == \"obj\":\n",
    "            path = os.sep.join([dirpath, file])\n",
    "            load = mesh_straight = pv.read(path)\n",
    "            objects.append(load)\n",
    "            count_s+=1"
   ]
  },
  {
   "cell_type": "code",
   "execution_count": 4,
   "id": "6530c3f2",
   "metadata": {},
   "outputs": [],
   "source": [
    "count_h = 0\n",
    "for (dirpath, dirnames, filenames) in os.walk(\"./adni_hippos_hackathon/CN\"):\n",
    "    for file in filenames:\n",
    "        if file[-3:] == \"obj\":\n",
    "            path = os.sep.join([dirpath, file])\n",
    "            load = mesh_helix = pv.read(path)\n",
    "            objects.append(load)\n",
    "            count_h+=1"
   ]
  },
  {
   "cell_type": "code",
   "execution_count": 5,
   "id": "b24bcc1b",
   "metadata": {},
   "outputs": [
    {
     "data": {
      "text/html": [
       "<table><tr><th>Header</th><th>Data Arrays</th></tr><tr><td>\n",
       "<table>\n",
       "<tr><th>PolyData</th><th>Information</th></tr>\n",
       "<tr><td>N Cells</td><td>4556</td></tr>\n",
       "<tr><td>N Points</td><td>2280</td></tr>\n",
       "<tr><td>X Bounds</td><td>1.151e+02, 1.298e+02</td></tr>\n",
       "<tr><td>Y Bounds</td><td>-1.251e+02, -9.377e+01</td></tr>\n",
       "<tr><td>Z Bounds</td><td>1.101e+02, 1.304e+02</td></tr>\n",
       "<tr><td>N Arrays</td><td>4</td></tr>\n",
       "</table>\n",
       "\n",
       "</td><td>\n",
       "<table>\n",
       "<tr><th>Name</th><th>Field</th><th>Type</th><th>N Comp</th><th>Min</th><th>Max</th></tr>\n",
       "<tr><td>material_0</td><td>Points</td><td>float32</td><td>2</td><td>-1.000e+00</td><td>-1.000e+00</td></tr>\n",
       "<tr><td>MaterialIds</td><td>Cells</td><td>int32</td><td>1</td><td>0.000e+00</td><td>0.000e+00</td></tr>\n",
       "<tr><td>GroupIds</td><td>Cells</td><td>float32</td><td>1</td><td>1.000e+00</td><td>1.000e+00</td></tr>\n",
       "<tr><td>MaterialNames</td><td>Fields</td><td><U10</td><td>1</td><td>nan</td><td>nan</td></tr>\n",
       "</table>\n",
       "\n",
       "</td></tr> </table>"
      ],
      "text/plain": [
       "PolyData (0x7f0db014dc60)\n",
       "  N Cells:\t4556\n",
       "  N Points:\t2280\n",
       "  X Bounds:\t1.151e+02, 1.298e+02\n",
       "  Y Bounds:\t-1.251e+02, -9.377e+01\n",
       "  Z Bounds:\t1.101e+02, 1.304e+02\n",
       "  N Arrays:\t4"
      ]
     },
     "execution_count": 5,
     "metadata": {},
     "output_type": "execute_result"
    }
   ],
   "source": [
    "objects[0]"
   ]
  },
  {
   "cell_type": "code",
   "execution_count": 6,
   "id": "4a946e22",
   "metadata": {},
   "outputs": [],
   "source": [
    "from morphomatics.geom import Surface"
   ]
  },
  {
   "cell_type": "code",
   "execution_count": null,
   "id": "045a9b28",
   "metadata": {},
   "outputs": [],
   "source": [
    "as_surface = lambda mesh: Surface(mesh.points, mesh.faces.reshape(-1, 4)[:, 1:])\n",
    "S_straight = as_surface(mesh_straight)\n",
    "S_helix = as_surface(mesh_helix)"
   ]
  },
  {
   "cell_type": "code",
   "execution_count": 7,
   "id": "ad3c72c4",
   "metadata": {},
   "outputs": [],
   "source": [
    "from morphomatics.manifold import FundamentalCoords, PointDistributionModel, util"
   ]
  },
  {
   "cell_type": "code",
   "execution_count": null,
   "id": "72c200b7",
   "metadata": {},
   "outputs": [],
   "source": [
    "# Construct shape space\n",
    "M = FundamentalCoords(S_straight) # Replace with PointDistributionModel\n",
    "\n",
    "# map surfaces to shape space coordinates\n",
    "c_straight = M.to_coords(S_straight.v)\n",
    "c_helix = M.to_coords(S_helix.v)\n",
    "\n",
    "# perform computations, e.g. ...\n",
    "print('distance: ', M.metric.dist(c_straight, c_helix))\n",
    "\n",
    "# ... interpolate surfaces (mid-point on geodesic)\n",
    "diff = M.connec.log(c_straight, c_helix)\n",
    "mean = M.connec.exp(c_straight, 0.5*diff)"
   ]
  },
  {
   "cell_type": "code",
   "execution_count": 8,
   "id": "5fd48f5e",
   "metadata": {},
   "outputs": [
    {
     "name": "stdout",
     "output_type": "stream",
     "text": [
      "|grad|=0.2908308462189316\n",
      "|grad|=0.00018741939746994436\n",
      "|grad|=1.594484391232075e-06\n",
      "|grad|=2.0555189852011362e-08\n",
      "|grad|=3.102662647692848e-10\n",
      "|grad|=5.114147606110461e-12\n",
      "|grad|=8.900413083116155e-14\n",
      "13.264199165482013\n",
      "|grad|=0.01999867558388049\n",
      "|grad|=3.254401926093638e-05\n",
      "|grad|=3.3893282962944244e-07\n",
      "|grad|=4.5446744763848356e-09\n",
      "|grad|=6.94741038637553e-11\n",
      "|grad|=1.145907143092159e-12\n",
      "|grad|=1.9766007733245978e-14\n",
      "0.18334767172064512\n",
      "|grad|=0.03173966934029204\n",
      "|grad|=4.5107783726950064e-05\n",
      "|grad|=4.202638481390665e-07\n",
      "|grad|=5.261482008569633e-09\n",
      "|grad|=7.630477080561149e-11\n",
      "|grad|=1.1967087788770898e-12\n",
      "|grad|=1.9668269290656292e-14\n",
      "0.015700866448911166\n",
      "|grad|=0.03170254214774116\n",
      "|grad|=4.4795936594550675e-05\n",
      "|grad|=4.178410008229486e-07\n",
      "|grad|=5.233460542545062e-09\n",
      "|grad|=7.584370416596496e-11\n",
      "|grad|=1.1880120075448491e-12\n",
      "|grad|=1.949918052521208e-14\n",
      "0.000748476287218935\n",
      "tol 0.005730296524734604 reached\n",
      "|grad|=0.2967193689890635\n",
      "|grad|=0.0001791849271785518\n",
      "|grad|=1.4893478268102803e-06\n",
      "|grad|=1.8728485234882253e-08\n",
      "|grad|=2.7623012619473105e-10\n",
      "|grad|=4.466932372546299e-12\n",
      "|grad|=7.654049053964775e-14\n"
     ]
    }
   ],
   "source": [
    "from morphomatics.stats import StatisticalShapeModel\n",
    "# to Surface type\n",
    "as_surface = lambda mesh: Surface(mesh.points, mesh.faces.reshape(-1, 4)[:, 1:])\n",
    "surfaces = [as_surface(m) for m in objects]\n",
    "\n",
    "# construct model\n",
    "SSM = StatisticalShapeModel(lambda ref: FundamentalCoords(ref)) # replace me with PointDistributionModel\n",
    "SSM.construct(surfaces)"
   ]
  },
  {
   "cell_type": "code",
   "execution_count": 15,
   "id": "65c29a77",
   "metadata": {},
   "outputs": [],
   "source": [
    "from tempfile import TemporaryFile\n",
    "\n",
    "outfile = TemporaryFile()\n",
    "np.save(outfile,SSM.space.ref,allow_pickle=True)\n",
    "_ = outfile.seek(0)"
   ]
  },
  {
   "cell_type": "code",
   "execution_count": 16,
   "id": "f58254d2",
   "metadata": {},
   "outputs": [],
   "source": [
    "ref = np.load(outfile,allow_pickle=True)"
   ]
  },
  {
   "cell_type": "code",
   "execution_count": 22,
   "id": "3f4d96e5",
   "metadata": {},
   "outputs": [
    {
     "data": {
      "text/plain": [
       "array([ 1.82797274e-01, -3.81311192e-02,  8.64359345e-02, -6.99550368e-03,\n",
       "        4.43907879e-03,  1.48865809e-02, -1.24348632e-02,  1.71040264e-02,\n",
       "       -4.51797336e-02,  1.90097683e-03, -3.79713035e-02,  9.25407956e-03,\n",
       "       -7.89309791e-03,  5.18196881e-03,  2.59171089e-02, -4.39929202e-02,\n",
       "        5.65688540e-02, -2.71409814e-02,  7.79268386e-03, -3.06717871e-02,\n",
       "        4.38025080e-02, -5.52300573e-03,  1.00009357e-02, -5.79224967e-03,\n",
       "        2.94764107e-02, -4.77321718e-03,  5.66330549e-02, -1.68021381e-02,\n",
       "        2.00200395e-02, -5.93844727e-03,  5.80464826e-02, -8.45495478e-03,\n",
       "       -4.33546774e-03,  5.00409595e-03, -6.29882853e-03,  3.36154020e-02,\n",
       "        1.42565965e-03,  6.33901805e-03,  1.83000668e-02, -1.56954785e-02,\n",
       "        2.10450558e-02,  2.13108803e-02,  3.90024214e-03, -7.99289328e-03,\n",
       "       -3.13131605e-02, -1.57566230e-02,  4.59425879e-02,  2.95935522e-02,\n",
       "       -3.28771137e-02, -6.57372842e-03, -2.61983379e-02,  1.67479259e-02,\n",
       "        2.09449838e-02,  1.11811207e-02,  2.09474592e-02, -1.36465460e-02,\n",
       "       -2.38221171e-02, -2.16104864e-02, -2.14221954e-02,  1.12914716e-02,\n",
       "        2.36146493e-03,  2.66704911e-02,  9.26792029e-03, -6.13846549e-03,\n",
       "       -3.28105350e-02, -1.60668111e-02, -1.62946347e-03, -7.75604486e-03,\n",
       "       -3.10023174e-02,  2.10531962e-02,  2.30491941e-02,  2.42157150e-02,\n",
       "        1.43165564e-02, -2.80332251e-02, -5.15942447e-03, -1.73658683e-02,\n",
       "       -7.91608659e-03,  4.04558254e-02,  4.44140167e-03,  2.94832879e-03,\n",
       "        9.68677353e-03, -2.12672376e-02, -1.18147913e-02, -1.38851211e-02,\n",
       "       -8.97808191e-03, -7.95631786e-03, -9.18998880e-04,  1.50643371e-02,\n",
       "        3.71632085e-03,  6.08954567e-03,  4.04512002e-03,  1.36756346e-02,\n",
       "       -1.43958561e-04, -2.25059467e-02, -3.28153937e-03, -5.32460184e-03,\n",
       "        1.38717346e-02,  3.26080311e-03,  4.43838190e-03,  2.28019270e-02,\n",
       "       -1.17959497e-02, -4.63463875e-03, -4.33654516e-03, -4.13611849e-04,\n",
       "        8.19405734e-03,  2.33195775e-03,  1.46693371e-02, -1.37220549e-02,\n",
       "       -4.25123933e-03, -3.61796848e-03,  3.15824722e-03,  4.07557115e-03,\n",
       "       -1.17740241e-02, -3.26402890e-03,  6.00256836e-03,  2.61935462e-04,\n",
       "       -3.70733663e-03,  1.11652029e-04,  4.19882490e-04])"
      ]
     },
     "execution_count": 22,
     "metadata": {},
     "output_type": "execute_result"
    }
   ],
   "source": [
    "SSM.coeffs[0]"
   ]
  },
  {
   "cell_type": "code",
   "execution_count": 10,
   "id": "38c7bc3b",
   "metadata": {},
   "outputs": [],
   "source": [
    "from morphomatics.stats import ExponentialBarycenter"
   ]
  },
  {
   "cell_type": "code",
   "execution_count": 21,
   "id": "aa2ae83d",
   "metadata": {},
   "outputs": [
    {
     "ename": "KeyError",
     "evalue": "'Index (slice(None, 61506, None)) not understood. Index must be a string name or a tuple of string name and string preference.'",
     "output_type": "error",
     "traceback": [
      "\u001b[0;31m---------------------------------------------------------------------------\u001b[0m",
      "\u001b[0;31mKeyError\u001b[0m                                  Traceback (most recent call last)",
      "Input \u001b[0;32mIn [21]\u001b[0m, in \u001b[0;36m<cell line: 1>\u001b[0;34m()\u001b[0m\n\u001b[0;32m----> 1\u001b[0m exp \u001b[38;5;241m=\u001b[39m \u001b[43mExponentialBarycenter\u001b[49m\u001b[38;5;241;43m.\u001b[39;49m\u001b[43mcompute\u001b[49m\u001b[43m(\u001b[49m\u001b[43mSSM\u001b[49m\u001b[38;5;241;43m.\u001b[39;49m\u001b[43mspace\u001b[49m\u001b[43m,\u001b[49m\u001b[43mobjects\u001b[49m\u001b[43m[\u001b[49m\u001b[43m:\u001b[49m\u001b[43mcount_s\u001b[49m\u001b[43m]\u001b[49m\u001b[43m)\u001b[49m\n",
      "File \u001b[0;32m~/anaconda3/envs/hackathon22/lib/python3.10/site-packages/morphomatics/stats/ExponentialBarycenter.py:58\u001b[0m, in \u001b[0;36mExponentialBarycenter.compute\u001b[0;34m(mfd, data, x, max_iter, n_jobs)\u001b[0m\n\u001b[1;32m     56\u001b[0m grad \u001b[38;5;241m=\u001b[39m \u001b[38;5;28;01mlambda\u001b[39;00m a: np\u001b[38;5;241m.\u001b[39msum(parallel(delayed(mfd\u001b[38;5;241m.\u001b[39mconnec\u001b[38;5;241m.\u001b[39mlog)(a, b) \u001b[38;5;28;01mfor\u001b[39;00m b \u001b[38;5;129;01min\u001b[39;00m data), axis\u001b[38;5;241m=\u001b[39m\u001b[38;5;241m0\u001b[39m) \u001b[38;5;241m/\u001b[39m \u001b[38;5;28mlen\u001b[39m(data)\n\u001b[1;32m     57\u001b[0m \u001b[38;5;28;01mfor\u001b[39;00m _ \u001b[38;5;129;01min\u001b[39;00m \u001b[38;5;28mrange\u001b[39m(max_iter):\n\u001b[0;32m---> 58\u001b[0m     g \u001b[38;5;241m=\u001b[39m \u001b[43mgrad\u001b[49m\u001b[43m(\u001b[49m\u001b[43mx\u001b[49m\u001b[43m)\u001b[49m\n\u001b[1;32m     59\u001b[0m     \u001b[38;5;28;01mif\u001b[39;00m mfd\u001b[38;5;241m.\u001b[39mmetric:\n\u001b[1;32m     60\u001b[0m         g_norm \u001b[38;5;241m=\u001b[39m mfd\u001b[38;5;241m.\u001b[39mmetric\u001b[38;5;241m.\u001b[39mnorm(x, \u001b[38;5;241m-\u001b[39mg)\n",
      "File \u001b[0;32m~/anaconda3/envs/hackathon22/lib/python3.10/site-packages/morphomatics/stats/ExponentialBarycenter.py:56\u001b[0m, in \u001b[0;36mExponentialBarycenter.compute.<locals>.<lambda>\u001b[0;34m(a)\u001b[0m\n\u001b[1;32m     47\u001b[0m \u001b[38;5;66;03m# compute intrinsic mean\u001b[39;00m\n\u001b[1;32m     48\u001b[0m \u001b[38;5;66;03m#cost = lambda a: 0.5 / len(data) * np.sum([mfd.metric.dist(a, b) ** 2 for b in data])\u001b[39;00m\n\u001b[1;32m     49\u001b[0m \u001b[38;5;66;03m#grad = lambda a: np.sum([mfd.connec.log(a, b) for b in data], axis=0) / len(data)\u001b[39;00m\n\u001b[0;32m   (...)\u001b[0m\n\u001b[1;32m     53\u001b[0m \n\u001b[1;32m     54\u001b[0m \u001b[38;5;66;03m# Newton-type fixed point iteration\u001b[39;00m\n\u001b[1;32m     55\u001b[0m \u001b[38;5;28;01mwith\u001b[39;00m Parallel(n_jobs\u001b[38;5;241m=\u001b[39mn_jobs, prefer\u001b[38;5;241m=\u001b[39m\u001b[38;5;124m'\u001b[39m\u001b[38;5;124mthreads\u001b[39m\u001b[38;5;124m'\u001b[39m, verbose\u001b[38;5;241m=\u001b[39m\u001b[38;5;241m0\u001b[39m) \u001b[38;5;28;01mas\u001b[39;00m parallel:\n\u001b[0;32m---> 56\u001b[0m     grad \u001b[38;5;241m=\u001b[39m \u001b[38;5;28;01mlambda\u001b[39;00m a: np\u001b[38;5;241m.\u001b[39msum(\u001b[43mparallel\u001b[49m\u001b[43m(\u001b[49m\u001b[43mdelayed\u001b[49m\u001b[43m(\u001b[49m\u001b[43mmfd\u001b[49m\u001b[38;5;241;43m.\u001b[39;49m\u001b[43mconnec\u001b[49m\u001b[38;5;241;43m.\u001b[39;49m\u001b[43mlog\u001b[49m\u001b[43m)\u001b[49m\u001b[43m(\u001b[49m\u001b[43ma\u001b[49m\u001b[43m,\u001b[49m\u001b[43m \u001b[49m\u001b[43mb\u001b[49m\u001b[43m)\u001b[49m\u001b[43m \u001b[49m\u001b[38;5;28;43;01mfor\u001b[39;49;00m\u001b[43m \u001b[49m\u001b[43mb\u001b[49m\u001b[43m \u001b[49m\u001b[38;5;129;43;01min\u001b[39;49;00m\u001b[43m \u001b[49m\u001b[43mdata\u001b[49m\u001b[43m)\u001b[49m, axis\u001b[38;5;241m=\u001b[39m\u001b[38;5;241m0\u001b[39m) \u001b[38;5;241m/\u001b[39m \u001b[38;5;28mlen\u001b[39m(data)\n\u001b[1;32m     57\u001b[0m     \u001b[38;5;28;01mfor\u001b[39;00m _ \u001b[38;5;129;01min\u001b[39;00m \u001b[38;5;28mrange\u001b[39m(max_iter):\n\u001b[1;32m     58\u001b[0m         g \u001b[38;5;241m=\u001b[39m grad(x)\n",
      "File \u001b[0;32m~/anaconda3/envs/hackathon22/lib/python3.10/site-packages/joblib/parallel.py:1056\u001b[0m, in \u001b[0;36mParallel.__call__\u001b[0;34m(self, iterable)\u001b[0m\n\u001b[1;32m   1053\u001b[0m     \u001b[38;5;28mself\u001b[39m\u001b[38;5;241m.\u001b[39m_iterating \u001b[38;5;241m=\u001b[39m \u001b[38;5;28;01mFalse\u001b[39;00m\n\u001b[1;32m   1055\u001b[0m \u001b[38;5;28;01mwith\u001b[39;00m \u001b[38;5;28mself\u001b[39m\u001b[38;5;241m.\u001b[39m_backend\u001b[38;5;241m.\u001b[39mretrieval_context():\n\u001b[0;32m-> 1056\u001b[0m     \u001b[38;5;28;43mself\u001b[39;49m\u001b[38;5;241;43m.\u001b[39;49m\u001b[43mretrieve\u001b[49m\u001b[43m(\u001b[49m\u001b[43m)\u001b[49m\n\u001b[1;32m   1057\u001b[0m \u001b[38;5;66;03m# Make sure that we get a last message telling us we are done\u001b[39;00m\n\u001b[1;32m   1058\u001b[0m elapsed_time \u001b[38;5;241m=\u001b[39m time\u001b[38;5;241m.\u001b[39mtime() \u001b[38;5;241m-\u001b[39m \u001b[38;5;28mself\u001b[39m\u001b[38;5;241m.\u001b[39m_start_time\n",
      "File \u001b[0;32m~/anaconda3/envs/hackathon22/lib/python3.10/site-packages/joblib/parallel.py:935\u001b[0m, in \u001b[0;36mParallel.retrieve\u001b[0;34m(self)\u001b[0m\n\u001b[1;32m    933\u001b[0m \u001b[38;5;28;01mtry\u001b[39;00m:\n\u001b[1;32m    934\u001b[0m     \u001b[38;5;28;01mif\u001b[39;00m \u001b[38;5;28mgetattr\u001b[39m(\u001b[38;5;28mself\u001b[39m\u001b[38;5;241m.\u001b[39m_backend, \u001b[38;5;124m'\u001b[39m\u001b[38;5;124msupports_timeout\u001b[39m\u001b[38;5;124m'\u001b[39m, \u001b[38;5;28;01mFalse\u001b[39;00m):\n\u001b[0;32m--> 935\u001b[0m         \u001b[38;5;28mself\u001b[39m\u001b[38;5;241m.\u001b[39m_output\u001b[38;5;241m.\u001b[39mextend(\u001b[43mjob\u001b[49m\u001b[38;5;241;43m.\u001b[39;49m\u001b[43mget\u001b[49m\u001b[43m(\u001b[49m\u001b[43mtimeout\u001b[49m\u001b[38;5;241;43m=\u001b[39;49m\u001b[38;5;28;43mself\u001b[39;49m\u001b[38;5;241;43m.\u001b[39;49m\u001b[43mtimeout\u001b[49m\u001b[43m)\u001b[49m)\n\u001b[1;32m    936\u001b[0m     \u001b[38;5;28;01melse\u001b[39;00m:\n\u001b[1;32m    937\u001b[0m         \u001b[38;5;28mself\u001b[39m\u001b[38;5;241m.\u001b[39m_output\u001b[38;5;241m.\u001b[39mextend(job\u001b[38;5;241m.\u001b[39mget())\n",
      "File \u001b[0;32m~/anaconda3/envs/hackathon22/lib/python3.10/multiprocessing/pool.py:771\u001b[0m, in \u001b[0;36mApplyResult.get\u001b[0;34m(self, timeout)\u001b[0m\n\u001b[1;32m    769\u001b[0m     \u001b[38;5;28;01mreturn\u001b[39;00m \u001b[38;5;28mself\u001b[39m\u001b[38;5;241m.\u001b[39m_value\n\u001b[1;32m    770\u001b[0m \u001b[38;5;28;01melse\u001b[39;00m:\n\u001b[0;32m--> 771\u001b[0m     \u001b[38;5;28;01mraise\u001b[39;00m \u001b[38;5;28mself\u001b[39m\u001b[38;5;241m.\u001b[39m_value\n",
      "File \u001b[0;32m~/anaconda3/envs/hackathon22/lib/python3.10/multiprocessing/pool.py:125\u001b[0m, in \u001b[0;36mworker\u001b[0;34m(inqueue, outqueue, initializer, initargs, maxtasks, wrap_exception)\u001b[0m\n\u001b[1;32m    123\u001b[0m job, i, func, args, kwds \u001b[38;5;241m=\u001b[39m task\n\u001b[1;32m    124\u001b[0m \u001b[38;5;28;01mtry\u001b[39;00m:\n\u001b[0;32m--> 125\u001b[0m     result \u001b[38;5;241m=\u001b[39m (\u001b[38;5;28;01mTrue\u001b[39;00m, \u001b[43mfunc\u001b[49m\u001b[43m(\u001b[49m\u001b[38;5;241;43m*\u001b[39;49m\u001b[43margs\u001b[49m\u001b[43m,\u001b[49m\u001b[43m \u001b[49m\u001b[38;5;241;43m*\u001b[39;49m\u001b[38;5;241;43m*\u001b[39;49m\u001b[43mkwds\u001b[49m\u001b[43m)\u001b[49m)\n\u001b[1;32m    126\u001b[0m \u001b[38;5;28;01mexcept\u001b[39;00m \u001b[38;5;167;01mException\u001b[39;00m \u001b[38;5;28;01mas\u001b[39;00m e:\n\u001b[1;32m    127\u001b[0m     \u001b[38;5;28;01mif\u001b[39;00m wrap_exception \u001b[38;5;129;01mand\u001b[39;00m func \u001b[38;5;129;01mis\u001b[39;00m \u001b[38;5;129;01mnot\u001b[39;00m _helper_reraises_exception:\n",
      "File \u001b[0;32m~/anaconda3/envs/hackathon22/lib/python3.10/site-packages/joblib/_parallel_backends.py:595\u001b[0m, in \u001b[0;36mSafeFunction.__call__\u001b[0;34m(self, *args, **kwargs)\u001b[0m\n\u001b[1;32m    593\u001b[0m \u001b[38;5;28;01mdef\u001b[39;00m \u001b[38;5;21m__call__\u001b[39m(\u001b[38;5;28mself\u001b[39m, \u001b[38;5;241m*\u001b[39margs, \u001b[38;5;241m*\u001b[39m\u001b[38;5;241m*\u001b[39mkwargs):\n\u001b[1;32m    594\u001b[0m     \u001b[38;5;28;01mtry\u001b[39;00m:\n\u001b[0;32m--> 595\u001b[0m         \u001b[38;5;28;01mreturn\u001b[39;00m \u001b[38;5;28;43mself\u001b[39;49m\u001b[38;5;241;43m.\u001b[39;49m\u001b[43mfunc\u001b[49m\u001b[43m(\u001b[49m\u001b[38;5;241;43m*\u001b[39;49m\u001b[43margs\u001b[49m\u001b[43m,\u001b[49m\u001b[43m \u001b[49m\u001b[38;5;241;43m*\u001b[39;49m\u001b[38;5;241;43m*\u001b[39;49m\u001b[43mkwargs\u001b[49m\u001b[43m)\u001b[49m\n\u001b[1;32m    596\u001b[0m     \u001b[38;5;28;01mexcept\u001b[39;00m \u001b[38;5;167;01mKeyboardInterrupt\u001b[39;00m \u001b[38;5;28;01mas\u001b[39;00m e:\n\u001b[1;32m    597\u001b[0m         \u001b[38;5;66;03m# We capture the KeyboardInterrupt and reraise it as\u001b[39;00m\n\u001b[1;32m    598\u001b[0m         \u001b[38;5;66;03m# something different, as multiprocessing does not\u001b[39;00m\n\u001b[1;32m    599\u001b[0m         \u001b[38;5;66;03m# interrupt processing for a KeyboardInterrupt\u001b[39;00m\n\u001b[1;32m    600\u001b[0m         \u001b[38;5;28;01mraise\u001b[39;00m WorkerInterrupt() \u001b[38;5;28;01mfrom\u001b[39;00m \u001b[38;5;21;01me\u001b[39;00m\n",
      "File \u001b[0;32m~/anaconda3/envs/hackathon22/lib/python3.10/site-packages/joblib/parallel.py:262\u001b[0m, in \u001b[0;36mBatchedCalls.__call__\u001b[0;34m(self)\u001b[0m\n\u001b[1;32m    258\u001b[0m \u001b[38;5;28;01mdef\u001b[39;00m \u001b[38;5;21m__call__\u001b[39m(\u001b[38;5;28mself\u001b[39m):\n\u001b[1;32m    259\u001b[0m     \u001b[38;5;66;03m# Set the default nested backend to self._backend but do not set the\u001b[39;00m\n\u001b[1;32m    260\u001b[0m     \u001b[38;5;66;03m# change the default number of processes to -1\u001b[39;00m\n\u001b[1;32m    261\u001b[0m     \u001b[38;5;28;01mwith\u001b[39;00m parallel_backend(\u001b[38;5;28mself\u001b[39m\u001b[38;5;241m.\u001b[39m_backend, n_jobs\u001b[38;5;241m=\u001b[39m\u001b[38;5;28mself\u001b[39m\u001b[38;5;241m.\u001b[39m_n_jobs):\n\u001b[0;32m--> 262\u001b[0m         \u001b[38;5;28;01mreturn\u001b[39;00m [func(\u001b[38;5;241m*\u001b[39margs, \u001b[38;5;241m*\u001b[39m\u001b[38;5;241m*\u001b[39mkwargs)\n\u001b[1;32m    263\u001b[0m                 \u001b[38;5;28;01mfor\u001b[39;00m func, args, kwargs \u001b[38;5;129;01min\u001b[39;00m \u001b[38;5;28mself\u001b[39m\u001b[38;5;241m.\u001b[39mitems]\n",
      "File \u001b[0;32m~/anaconda3/envs/hackathon22/lib/python3.10/site-packages/joblib/parallel.py:262\u001b[0m, in \u001b[0;36m<listcomp>\u001b[0;34m(.0)\u001b[0m\n\u001b[1;32m    258\u001b[0m \u001b[38;5;28;01mdef\u001b[39;00m \u001b[38;5;21m__call__\u001b[39m(\u001b[38;5;28mself\u001b[39m):\n\u001b[1;32m    259\u001b[0m     \u001b[38;5;66;03m# Set the default nested backend to self._backend but do not set the\u001b[39;00m\n\u001b[1;32m    260\u001b[0m     \u001b[38;5;66;03m# change the default number of processes to -1\u001b[39;00m\n\u001b[1;32m    261\u001b[0m     \u001b[38;5;28;01mwith\u001b[39;00m parallel_backend(\u001b[38;5;28mself\u001b[39m\u001b[38;5;241m.\u001b[39m_backend, n_jobs\u001b[38;5;241m=\u001b[39m\u001b[38;5;28mself\u001b[39m\u001b[38;5;241m.\u001b[39m_n_jobs):\n\u001b[0;32m--> 262\u001b[0m         \u001b[38;5;28;01mreturn\u001b[39;00m [\u001b[43mfunc\u001b[49m\u001b[43m(\u001b[49m\u001b[38;5;241;43m*\u001b[39;49m\u001b[43margs\u001b[49m\u001b[43m,\u001b[49m\u001b[43m \u001b[49m\u001b[38;5;241;43m*\u001b[39;49m\u001b[38;5;241;43m*\u001b[39;49m\u001b[43mkwargs\u001b[49m\u001b[43m)\u001b[49m\n\u001b[1;32m    263\u001b[0m                 \u001b[38;5;28;01mfor\u001b[39;00m func, args, kwargs \u001b[38;5;129;01min\u001b[39;00m \u001b[38;5;28mself\u001b[39m\u001b[38;5;241m.\u001b[39mitems]\n",
      "File \u001b[0;32m~/anaconda3/envs/hackathon22/lib/python3.10/site-packages/morphomatics/manifold/FundamentalCoords.py:377\u001b[0m, in \u001b[0;36mFundamentalCoords.log\u001b[0;34m(self, X, Y)\u001b[0m\n\u001b[1;32m    375\u001b[0m \u001b[38;5;28;01mdef\u001b[39;00m \u001b[38;5;21mlog\u001b[39m(\u001b[38;5;28mself\u001b[39m, X, Y):\n\u001b[1;32m    376\u001b[0m     \u001b[38;5;66;03m# disentangle coords. into rotations and stretches\u001b[39;00m\n\u001b[0;32m--> 377\u001b[0m     Cx, Ux \u001b[38;5;241m=\u001b[39m \u001b[38;5;28;43mself\u001b[39;49m\u001b[38;5;241;43m.\u001b[39;49m\u001b[43mdisentangle\u001b[49m\u001b[43m(\u001b[49m\u001b[43mX\u001b[49m\u001b[43m)\u001b[49m\n\u001b[1;32m    378\u001b[0m     Cy, Uy \u001b[38;5;241m=\u001b[39m \u001b[38;5;28mself\u001b[39m\u001b[38;5;241m.\u001b[39mdisentangle(Y)\n\u001b[1;32m    380\u001b[0m     \u001b[38;5;66;03m# alloc tangent vector\u001b[39;00m\n",
      "File \u001b[0;32m~/anaconda3/envs/hackathon22/lib/python3.10/site-packages/morphomatics/manifold/FundamentalCoords.py:109\u001b[0m, in \u001b[0;36mFundamentalCoords.disentangle\u001b[0;34m(self, c)\u001b[0m\n\u001b[1;32m    107\u001b[0m \u001b[38;5;66;03m# 2xkx3x3 array, rotations are stored in [0, :, :, :] and stretches in [1, :, :, :]\u001b[39;00m\n\u001b[1;32m    108\u001b[0m e \u001b[38;5;241m=\u001b[39m \u001b[38;5;28mint\u001b[39m(\u001b[38;5;241m0.5\u001b[39m \u001b[38;5;241m*\u001b[39m \u001b[38;5;28mself\u001b[39m\u001b[38;5;241m.\u001b[39mref\u001b[38;5;241m.\u001b[39minner_edges\u001b[38;5;241m.\u001b[39mgetnnz())\n\u001b[0;32m--> 109\u001b[0m \u001b[38;5;28;01mreturn\u001b[39;00m \u001b[43mc\u001b[49m\u001b[43m[\u001b[49m\u001b[43m:\u001b[49m\u001b[38;5;241;43m9\u001b[39;49m\u001b[38;5;241;43m*\u001b[39;49m\u001b[43me\u001b[49m\u001b[43m]\u001b[49m\u001b[38;5;241m.\u001b[39mreshape(\u001b[38;5;241m-\u001b[39m\u001b[38;5;241m1\u001b[39m, \u001b[38;5;241m3\u001b[39m, \u001b[38;5;241m3\u001b[39m), c[\u001b[38;5;241m9\u001b[39m\u001b[38;5;241m*\u001b[39me:]\u001b[38;5;241m.\u001b[39mreshape(\u001b[38;5;241m-\u001b[39m\u001b[38;5;241m1\u001b[39m, \u001b[38;5;241m2\u001b[39m, \u001b[38;5;241m2\u001b[39m)\n",
      "File \u001b[0;32m~/anaconda3/envs/hackathon22/lib/python3.10/site-packages/pyvista/core/dataset.py:1839\u001b[0m, in \u001b[0;36mDataSet.__getitem__\u001b[0;34m(self, index)\u001b[0m\n\u001b[1;32m   1837\u001b[0m     preference \u001b[38;5;241m=\u001b[39m \u001b[38;5;124m'\u001b[39m\u001b[38;5;124mcell\u001b[39m\u001b[38;5;124m'\u001b[39m\n\u001b[1;32m   1838\u001b[0m \u001b[38;5;28;01melse\u001b[39;00m:\n\u001b[0;32m-> 1839\u001b[0m     \u001b[38;5;28;01mraise\u001b[39;00m \u001b[38;5;167;01mKeyError\u001b[39;00m(\u001b[38;5;124mf\u001b[39m\u001b[38;5;124m'\u001b[39m\u001b[38;5;124mIndex (\u001b[39m\u001b[38;5;132;01m{\u001b[39;00mindex\u001b[38;5;132;01m}\u001b[39;00m\u001b[38;5;124m) not understood.\u001b[39m\u001b[38;5;124m'\u001b[39m\n\u001b[1;32m   1840\u001b[0m                    \u001b[38;5;124m'\u001b[39m\u001b[38;5;124m Index must be a string name or a tuple of string name and string preference.\u001b[39m\u001b[38;5;124m'\u001b[39m)\n\u001b[1;32m   1841\u001b[0m \u001b[38;5;28;01mreturn\u001b[39;00m \u001b[38;5;28mself\u001b[39m\u001b[38;5;241m.\u001b[39mget_array(name, preference\u001b[38;5;241m=\u001b[39mpreference)\n",
      "\u001b[0;31mKeyError\u001b[0m: 'Index (slice(None, 61506, None)) not understood. Index must be a string name or a tuple of string name and string preference.'"
     ]
    }
   ],
   "source": [
    "exp = ExponentialBarycenter.compute(SSM.space,objects[:count_s])#surfaces[:count_s])#SSM.coeffs[:count_s])"
   ]
  },
  {
   "cell_type": "code",
   "execution_count": 19,
   "id": "cd79eb52",
   "metadata": {},
   "outputs": [
    {
     "ename": "AttributeError",
     "evalue": "'StatisticalShapeModel' object has no attribute 'to_coords'",
     "output_type": "error",
     "traceback": [
      "\u001b[0;31m---------------------------------------------------------------------------\u001b[0m",
      "\u001b[0;31mAttributeError\u001b[0m                            Traceback (most recent call last)",
      "Input \u001b[0;32mIn [19]\u001b[0m, in \u001b[0;36m<cell line: 1>\u001b[0;34m()\u001b[0m\n\u001b[0;32m----> 1\u001b[0m c_straight \u001b[38;5;241m=\u001b[39m \u001b[43mSSM\u001b[49m\u001b[38;5;241;43m.\u001b[39;49m\u001b[43mto_coords\u001b[49m(surfaces[\u001b[38;5;241m0\u001b[39m]\u001b[38;5;241m.\u001b[39mv)\n",
      "\u001b[0;31mAttributeError\u001b[0m: 'StatisticalShapeModel' object has no attribute 'to_coords'"
     ]
    }
   ],
   "source": [
    "c_straight = SSM.to_coords(surfaces[0].v)"
   ]
  },
  {
   "cell_type": "code",
   "execution_count": null,
   "id": "c19f0a22",
   "metadata": {},
   "outputs": [],
   "source": [
    "\n",
    "mean_s = mean(surfaces[:count_s],SSM)"
   ]
  },
  {
   "cell_type": "code",
   "execution_count": null,
   "id": "46a68434",
   "metadata": {},
   "outputs": [],
   "source": [
    "def mean(surfaces,SSM):\n",
    "    coords = FundamentalCoords(surfaces)\n",
    "    return "
   ]
  },
  {
   "cell_type": "code",
   "execution_count": null,
   "id": "f749bee8",
   "metadata": {},
   "outputs": [],
   "source": []
  },
  {
   "cell_type": "code",
   "execution_count": 77,
   "id": "9c3fb390",
   "metadata": {},
   "outputs": [],
   "source": [
    "import scipy"
   ]
  },
  {
   "cell_type": "code",
   "execution_count": 125,
   "id": "ff81502b",
   "metadata": {},
   "outputs": [],
   "source": [
    "class MSVM:\n",
    "    def __init__(self,SSM,targets,data,k = 0.5,la = 0.5):\n",
    "        self.SSM = SSM\n",
    "        self.targets = targets\n",
    "        self.data = [SSM.space.to_coords(surfaces[i].v)for i in range(len(data))]\n",
    "        self.k = k\n",
    "        self.la = la\n",
    "    def mean_func(self,c1,c2):\n",
    "        #c1 = c[:int(len(c)/2)][0]\n",
    "        #print(type(c1),np.shape(c1))\n",
    "        #c2 = c[int(len(c)/2):][0]\n",
    "        n = len(self.data)\n",
    "        print('c2',type(c2),np.shape(c2))\n",
    "        print('data',type(data[0]),np.shape(data[0]))\n",
    "        h = [self.k - self.targets[i]*(self.SSM.space.metric.dist(c2,self.data[i])**2 - self.SSM.space.metric.dist(c1,self.data[i])**2) for i in range(len(self.data))]\n",
    "        return self.SSM.space.metric.dist(c1, c2)**2 + self.la/n*np.sum(h)\n",
    "    def minim(self,c0):\n",
    "        return scipy.optimize.minimize(self.mean_func,c0)"
   ]
  },
  {
   "cell_type": "code",
   "execution_count": 126,
   "id": "f7f39667",
   "metadata": {},
   "outputs": [
    {
     "data": {
      "text/plain": [
       "120"
      ]
     },
     "execution_count": 126,
     "metadata": {},
     "output_type": "execute_result"
    }
   ],
   "source": [
    "count_s+count_h"
   ]
  },
  {
   "cell_type": "code",
   "execution_count": 127,
   "id": "79b58b53",
   "metadata": {},
   "outputs": [
    {
     "data": {
      "text/plain": [
       "0.3489754615752034"
      ]
     },
     "execution_count": 127,
     "metadata": {},
     "output_type": "execute_result"
    }
   ],
   "source": [
    "a = SSM.space.to_coords(surfaces[0].v)#SSM.coeffs[0]#objects[0]#surfaces[0]#\n",
    "b = SSM.space.to_coords(surfaces[1].v)#SSM.coeffs[1]#objects[1]#surfaces[1]#\n",
    "SSM.space.metric.dist(a,b)"
   ]
  },
  {
   "cell_type": "code",
   "execution_count": 122,
   "id": "b20fc090",
   "metadata": {},
   "outputs": [],
   "source": [
    "targets = [1 for _ in range(count_s)]+[-1 for _ in range(count_h)]\n",
    "data = surfaces\n",
    "msvm = MSVM(SSM,targets,data)"
   ]
  },
  {
   "cell_type": "code",
   "execution_count": 123,
   "id": "6d502981",
   "metadata": {},
   "outputs": [
    {
     "name": "stdout",
     "output_type": "stream",
     "text": [
      "(79730,) (79730,)\n",
      "1.0\n",
      "(1, 79730)\n",
      "<class 'numpy.ndarray'> (79730,)\n",
      "c2 <class 'numpy.ndarray'> (79730,)\n",
      "data <class 'morphomatics.geom.surface.Surface'> ()\n"
     ]
    },
    {
     "data": {
      "text/plain": [
       "0.3721101030465338"
      ]
     },
     "execution_count": 123,
     "metadata": {},
     "output_type": "execute_result"
    }
   ],
   "source": [
    "print(a.shape,b.shape)\n",
    "l = [a,b]\n",
    "print(len(l)/2)\n",
    "c1 = [l[i] for i in range(1)]\n",
    "print(np.shape(c1))\n",
    "msvm.mean_func([a,b])"
   ]
  },
  {
   "cell_type": "code",
   "execution_count": 124,
   "id": "42fb8f7e",
   "metadata": {},
   "outputs": [
    {
     "name": "stdout",
     "output_type": "stream",
     "text": [
      "(2, 79730)\n",
      "<class 'numpy.float64'> ()\n",
      "c2 <class 'numpy.float64'> ()\n",
      "data <class 'morphomatics.geom.surface.Surface'> ()\n"
     ]
    },
    {
     "ename": "IndexError",
     "evalue": "invalid index to scalar variable.",
     "output_type": "error",
     "traceback": [
      "\u001b[0;31m---------------------------------------------------------------------------\u001b[0m",
      "\u001b[0;31mIndexError\u001b[0m                                Traceback (most recent call last)",
      "Input \u001b[0;32mIn [124]\u001b[0m, in \u001b[0;36m<cell line: 3>\u001b[0;34m()\u001b[0m\n\u001b[1;32m      1\u001b[0m init \u001b[38;5;241m=\u001b[39m [np\u001b[38;5;241m.\u001b[39mrandom\u001b[38;5;241m.\u001b[39mrand(\u001b[38;5;28mlen\u001b[39m(a)),np\u001b[38;5;241m.\u001b[39mrandom\u001b[38;5;241m.\u001b[39mrand(\u001b[38;5;28mlen\u001b[39m(a))]\n\u001b[1;32m      2\u001b[0m \u001b[38;5;28mprint\u001b[39m(np\u001b[38;5;241m.\u001b[39mshape(init))\n\u001b[0;32m----> 3\u001b[0m \u001b[43mmsvm\u001b[49m\u001b[38;5;241;43m.\u001b[39;49m\u001b[43mminim\u001b[49m\u001b[43m(\u001b[49m\u001b[43minit\u001b[49m\u001b[43m)\u001b[49m\n",
      "Input \u001b[0;32mIn [119]\u001b[0m, in \u001b[0;36mMSVM.minim\u001b[0;34m(self, c0)\u001b[0m\n\u001b[1;32m     17\u001b[0m \u001b[38;5;28;01mdef\u001b[39;00m \u001b[38;5;21mminim\u001b[39m(\u001b[38;5;28mself\u001b[39m,c0):\n\u001b[0;32m---> 18\u001b[0m     \u001b[38;5;28;01mreturn\u001b[39;00m \u001b[43mscipy\u001b[49m\u001b[38;5;241;43m.\u001b[39;49m\u001b[43moptimize\u001b[49m\u001b[38;5;241;43m.\u001b[39;49m\u001b[43mminimize\u001b[49m\u001b[43m(\u001b[49m\u001b[38;5;28;43mself\u001b[39;49m\u001b[38;5;241;43m.\u001b[39;49m\u001b[43mmean_func\u001b[49m\u001b[43m,\u001b[49m\u001b[43mc0\u001b[49m\u001b[43m)\u001b[49m\n",
      "File \u001b[0;32m~/anaconda3/envs/hackathon22/lib/python3.10/site-packages/scipy/optimize/_minimize.py:676\u001b[0m, in \u001b[0;36mminimize\u001b[0;34m(fun, x0, args, method, jac, hess, hessp, bounds, constraints, tol, callback, options)\u001b[0m\n\u001b[1;32m    674\u001b[0m     res \u001b[38;5;241m=\u001b[39m _minimize_cg(fun, x0, args, jac, callback, \u001b[38;5;241m*\u001b[39m\u001b[38;5;241m*\u001b[39moptions)\n\u001b[1;32m    675\u001b[0m \u001b[38;5;28;01melif\u001b[39;00m meth \u001b[38;5;241m==\u001b[39m \u001b[38;5;124m'\u001b[39m\u001b[38;5;124mbfgs\u001b[39m\u001b[38;5;124m'\u001b[39m:\n\u001b[0;32m--> 676\u001b[0m     res \u001b[38;5;241m=\u001b[39m \u001b[43m_minimize_bfgs\u001b[49m\u001b[43m(\u001b[49m\u001b[43mfun\u001b[49m\u001b[43m,\u001b[49m\u001b[43m \u001b[49m\u001b[43mx0\u001b[49m\u001b[43m,\u001b[49m\u001b[43m \u001b[49m\u001b[43margs\u001b[49m\u001b[43m,\u001b[49m\u001b[43m \u001b[49m\u001b[43mjac\u001b[49m\u001b[43m,\u001b[49m\u001b[43m \u001b[49m\u001b[43mcallback\u001b[49m\u001b[43m,\u001b[49m\u001b[43m \u001b[49m\u001b[38;5;241;43m*\u001b[39;49m\u001b[38;5;241;43m*\u001b[39;49m\u001b[43moptions\u001b[49m\u001b[43m)\u001b[49m\n\u001b[1;32m    677\u001b[0m \u001b[38;5;28;01melif\u001b[39;00m meth \u001b[38;5;241m==\u001b[39m \u001b[38;5;124m'\u001b[39m\u001b[38;5;124mnewton-cg\u001b[39m\u001b[38;5;124m'\u001b[39m:\n\u001b[1;32m    678\u001b[0m     res \u001b[38;5;241m=\u001b[39m _minimize_newtoncg(fun, x0, args, jac, hess, hessp, callback,\n\u001b[1;32m    679\u001b[0m                              \u001b[38;5;241m*\u001b[39m\u001b[38;5;241m*\u001b[39moptions)\n",
      "File \u001b[0;32m~/anaconda3/envs/hackathon22/lib/python3.10/site-packages/scipy/optimize/_optimize.py:1296\u001b[0m, in \u001b[0;36m_minimize_bfgs\u001b[0;34m(fun, x0, args, jac, callback, gtol, norm, eps, maxiter, disp, return_all, finite_diff_rel_step, **unknown_options)\u001b[0m\n\u001b[1;32m   1293\u001b[0m \u001b[38;5;28;01mif\u001b[39;00m maxiter \u001b[38;5;129;01mis\u001b[39;00m \u001b[38;5;28;01mNone\u001b[39;00m:\n\u001b[1;32m   1294\u001b[0m     maxiter \u001b[38;5;241m=\u001b[39m \u001b[38;5;28mlen\u001b[39m(x0) \u001b[38;5;241m*\u001b[39m \u001b[38;5;241m200\u001b[39m\n\u001b[0;32m-> 1296\u001b[0m sf \u001b[38;5;241m=\u001b[39m \u001b[43m_prepare_scalar_function\u001b[49m\u001b[43m(\u001b[49m\u001b[43mfun\u001b[49m\u001b[43m,\u001b[49m\u001b[43m \u001b[49m\u001b[43mx0\u001b[49m\u001b[43m,\u001b[49m\u001b[43m \u001b[49m\u001b[43mjac\u001b[49m\u001b[43m,\u001b[49m\u001b[43m \u001b[49m\u001b[43margs\u001b[49m\u001b[38;5;241;43m=\u001b[39;49m\u001b[43margs\u001b[49m\u001b[43m,\u001b[49m\u001b[43m \u001b[49m\u001b[43mepsilon\u001b[49m\u001b[38;5;241;43m=\u001b[39;49m\u001b[43meps\u001b[49m\u001b[43m,\u001b[49m\n\u001b[1;32m   1297\u001b[0m \u001b[43m                              \u001b[49m\u001b[43mfinite_diff_rel_step\u001b[49m\u001b[38;5;241;43m=\u001b[39;49m\u001b[43mfinite_diff_rel_step\u001b[49m\u001b[43m)\u001b[49m\n\u001b[1;32m   1299\u001b[0m f \u001b[38;5;241m=\u001b[39m sf\u001b[38;5;241m.\u001b[39mfun\n\u001b[1;32m   1300\u001b[0m myfprime \u001b[38;5;241m=\u001b[39m sf\u001b[38;5;241m.\u001b[39mgrad\n",
      "File \u001b[0;32m~/anaconda3/envs/hackathon22/lib/python3.10/site-packages/scipy/optimize/_optimize.py:263\u001b[0m, in \u001b[0;36m_prepare_scalar_function\u001b[0;34m(fun, x0, jac, args, bounds, epsilon, finite_diff_rel_step, hess)\u001b[0m\n\u001b[1;32m    259\u001b[0m     bounds \u001b[38;5;241m=\u001b[39m (\u001b[38;5;241m-\u001b[39mnp\u001b[38;5;241m.\u001b[39minf, np\u001b[38;5;241m.\u001b[39minf)\n\u001b[1;32m    261\u001b[0m \u001b[38;5;66;03m# ScalarFunction caches. Reuse of fun(x) during grad\u001b[39;00m\n\u001b[1;32m    262\u001b[0m \u001b[38;5;66;03m# calculation reduces overall function evaluations.\u001b[39;00m\n\u001b[0;32m--> 263\u001b[0m sf \u001b[38;5;241m=\u001b[39m \u001b[43mScalarFunction\u001b[49m\u001b[43m(\u001b[49m\u001b[43mfun\u001b[49m\u001b[43m,\u001b[49m\u001b[43m \u001b[49m\u001b[43mx0\u001b[49m\u001b[43m,\u001b[49m\u001b[43m \u001b[49m\u001b[43margs\u001b[49m\u001b[43m,\u001b[49m\u001b[43m \u001b[49m\u001b[43mgrad\u001b[49m\u001b[43m,\u001b[49m\u001b[43m \u001b[49m\u001b[43mhess\u001b[49m\u001b[43m,\u001b[49m\n\u001b[1;32m    264\u001b[0m \u001b[43m                    \u001b[49m\u001b[43mfinite_diff_rel_step\u001b[49m\u001b[43m,\u001b[49m\u001b[43m \u001b[49m\u001b[43mbounds\u001b[49m\u001b[43m,\u001b[49m\u001b[43m \u001b[49m\u001b[43mepsilon\u001b[49m\u001b[38;5;241;43m=\u001b[39;49m\u001b[43mepsilon\u001b[49m\u001b[43m)\u001b[49m\n\u001b[1;32m    266\u001b[0m \u001b[38;5;28;01mreturn\u001b[39;00m sf\n",
      "File \u001b[0;32m~/anaconda3/envs/hackathon22/lib/python3.10/site-packages/scipy/optimize/_differentiable_functions.py:158\u001b[0m, in \u001b[0;36mScalarFunction.__init__\u001b[0;34m(self, fun, x0, args, grad, hess, finite_diff_rel_step, finite_diff_bounds, epsilon)\u001b[0m\n\u001b[1;32m    155\u001b[0m     \u001b[38;5;28mself\u001b[39m\u001b[38;5;241m.\u001b[39mf \u001b[38;5;241m=\u001b[39m fun_wrapped(\u001b[38;5;28mself\u001b[39m\u001b[38;5;241m.\u001b[39mx)\n\u001b[1;32m    157\u001b[0m \u001b[38;5;28mself\u001b[39m\u001b[38;5;241m.\u001b[39m_update_fun_impl \u001b[38;5;241m=\u001b[39m update_fun\n\u001b[0;32m--> 158\u001b[0m \u001b[38;5;28;43mself\u001b[39;49m\u001b[38;5;241;43m.\u001b[39;49m\u001b[43m_update_fun\u001b[49m\u001b[43m(\u001b[49m\u001b[43m)\u001b[49m\n\u001b[1;32m    160\u001b[0m \u001b[38;5;66;03m# Gradient evaluation\u001b[39;00m\n\u001b[1;32m    161\u001b[0m \u001b[38;5;28;01mif\u001b[39;00m callable(grad):\n",
      "File \u001b[0;32m~/anaconda3/envs/hackathon22/lib/python3.10/site-packages/scipy/optimize/_differentiable_functions.py:251\u001b[0m, in \u001b[0;36mScalarFunction._update_fun\u001b[0;34m(self)\u001b[0m\n\u001b[1;32m    249\u001b[0m \u001b[38;5;28;01mdef\u001b[39;00m \u001b[38;5;21m_update_fun\u001b[39m(\u001b[38;5;28mself\u001b[39m):\n\u001b[1;32m    250\u001b[0m     \u001b[38;5;28;01mif\u001b[39;00m \u001b[38;5;129;01mnot\u001b[39;00m \u001b[38;5;28mself\u001b[39m\u001b[38;5;241m.\u001b[39mf_updated:\n\u001b[0;32m--> 251\u001b[0m         \u001b[38;5;28;43mself\u001b[39;49m\u001b[38;5;241;43m.\u001b[39;49m\u001b[43m_update_fun_impl\u001b[49m\u001b[43m(\u001b[49m\u001b[43m)\u001b[49m\n\u001b[1;32m    252\u001b[0m         \u001b[38;5;28mself\u001b[39m\u001b[38;5;241m.\u001b[39mf_updated \u001b[38;5;241m=\u001b[39m \u001b[38;5;28;01mTrue\u001b[39;00m\n",
      "File \u001b[0;32m~/anaconda3/envs/hackathon22/lib/python3.10/site-packages/scipy/optimize/_differentiable_functions.py:155\u001b[0m, in \u001b[0;36mScalarFunction.__init__.<locals>.update_fun\u001b[0;34m()\u001b[0m\n\u001b[1;32m    154\u001b[0m \u001b[38;5;28;01mdef\u001b[39;00m \u001b[38;5;21mupdate_fun\u001b[39m():\n\u001b[0;32m--> 155\u001b[0m     \u001b[38;5;28mself\u001b[39m\u001b[38;5;241m.\u001b[39mf \u001b[38;5;241m=\u001b[39m \u001b[43mfun_wrapped\u001b[49m\u001b[43m(\u001b[49m\u001b[38;5;28;43mself\u001b[39;49m\u001b[38;5;241;43m.\u001b[39;49m\u001b[43mx\u001b[49m\u001b[43m)\u001b[49m\n",
      "File \u001b[0;32m~/anaconda3/envs/hackathon22/lib/python3.10/site-packages/scipy/optimize/_differentiable_functions.py:137\u001b[0m, in \u001b[0;36mScalarFunction.__init__.<locals>.fun_wrapped\u001b[0;34m(x)\u001b[0m\n\u001b[1;32m    133\u001b[0m \u001b[38;5;28mself\u001b[39m\u001b[38;5;241m.\u001b[39mnfev \u001b[38;5;241m+\u001b[39m\u001b[38;5;241m=\u001b[39m \u001b[38;5;241m1\u001b[39m\n\u001b[1;32m    134\u001b[0m \u001b[38;5;66;03m# Send a copy because the user may overwrite it.\u001b[39;00m\n\u001b[1;32m    135\u001b[0m \u001b[38;5;66;03m# Overwriting results in undefined behaviour because\u001b[39;00m\n\u001b[1;32m    136\u001b[0m \u001b[38;5;66;03m# fun(self.x) will change self.x, with the two no longer linked.\u001b[39;00m\n\u001b[0;32m--> 137\u001b[0m fx \u001b[38;5;241m=\u001b[39m \u001b[43mfun\u001b[49m\u001b[43m(\u001b[49m\u001b[43mnp\u001b[49m\u001b[38;5;241;43m.\u001b[39;49m\u001b[43mcopy\u001b[49m\u001b[43m(\u001b[49m\u001b[43mx\u001b[49m\u001b[43m)\u001b[49m\u001b[43m,\u001b[49m\u001b[43m \u001b[49m\u001b[38;5;241;43m*\u001b[39;49m\u001b[43margs\u001b[49m\u001b[43m)\u001b[49m\n\u001b[1;32m    138\u001b[0m \u001b[38;5;66;03m# Make sure the function returns a true scalar\u001b[39;00m\n\u001b[1;32m    139\u001b[0m \u001b[38;5;28;01mif\u001b[39;00m \u001b[38;5;129;01mnot\u001b[39;00m np\u001b[38;5;241m.\u001b[39misscalar(fx):\n",
      "Input \u001b[0;32mIn [119]\u001b[0m, in \u001b[0;36mMSVM.mean_func\u001b[0;34m(self, c)\u001b[0m\n\u001b[1;32m     13\u001b[0m \u001b[38;5;28mprint\u001b[39m(\u001b[38;5;124m'\u001b[39m\u001b[38;5;124mc2\u001b[39m\u001b[38;5;124m'\u001b[39m,\u001b[38;5;28mtype\u001b[39m(c2),np\u001b[38;5;241m.\u001b[39mshape(c2))\n\u001b[1;32m     14\u001b[0m \u001b[38;5;28mprint\u001b[39m(\u001b[38;5;124m'\u001b[39m\u001b[38;5;124mdata\u001b[39m\u001b[38;5;124m'\u001b[39m,\u001b[38;5;28mtype\u001b[39m(data[\u001b[38;5;241m0\u001b[39m]),np\u001b[38;5;241m.\u001b[39mshape(data[\u001b[38;5;241m0\u001b[39m]))\n\u001b[0;32m---> 15\u001b[0m h \u001b[38;5;241m=\u001b[39m [\u001b[38;5;28mself\u001b[39m\u001b[38;5;241m.\u001b[39mk \u001b[38;5;241m-\u001b[39m \u001b[38;5;28mself\u001b[39m\u001b[38;5;241m.\u001b[39mtargets[i]\u001b[38;5;241m*\u001b[39m(\u001b[38;5;28mself\u001b[39m\u001b[38;5;241m.\u001b[39mSSM\u001b[38;5;241m.\u001b[39mspace\u001b[38;5;241m.\u001b[39mmetric\u001b[38;5;241m.\u001b[39mdist(c2,\u001b[38;5;28mself\u001b[39m\u001b[38;5;241m.\u001b[39mdata[i])\u001b[38;5;241m*\u001b[39m\u001b[38;5;241m*\u001b[39m\u001b[38;5;241m2\u001b[39m \u001b[38;5;241m-\u001b[39m \u001b[38;5;28mself\u001b[39m\u001b[38;5;241m.\u001b[39mSSM\u001b[38;5;241m.\u001b[39mspace\u001b[38;5;241m.\u001b[39mmetric\u001b[38;5;241m.\u001b[39mdist(c1,\u001b[38;5;28mself\u001b[39m\u001b[38;5;241m.\u001b[39mdata[i])\u001b[38;5;241m*\u001b[39m\u001b[38;5;241m*\u001b[39m\u001b[38;5;241m2\u001b[39m) \u001b[38;5;28;01mfor\u001b[39;00m i \u001b[38;5;129;01min\u001b[39;00m \u001b[38;5;28mrange\u001b[39m(\u001b[38;5;28mlen\u001b[39m(\u001b[38;5;28mself\u001b[39m\u001b[38;5;241m.\u001b[39mdata))]\n\u001b[1;32m     16\u001b[0m \u001b[38;5;28;01mreturn\u001b[39;00m \u001b[38;5;28mself\u001b[39m\u001b[38;5;241m.\u001b[39mSSM\u001b[38;5;241m.\u001b[39mspace\u001b[38;5;241m.\u001b[39mmetric\u001b[38;5;241m.\u001b[39mdist(c1, c2)\u001b[38;5;241m*\u001b[39m\u001b[38;5;241m*\u001b[39m\u001b[38;5;241m2\u001b[39m \u001b[38;5;241m+\u001b[39m \u001b[38;5;28mself\u001b[39m\u001b[38;5;241m.\u001b[39mla\u001b[38;5;241m/\u001b[39mn\u001b[38;5;241m*\u001b[39mnp\u001b[38;5;241m.\u001b[39msum(h)\n",
      "Input \u001b[0;32mIn [119]\u001b[0m, in \u001b[0;36m<listcomp>\u001b[0;34m(.0)\u001b[0m\n\u001b[1;32m     13\u001b[0m \u001b[38;5;28mprint\u001b[39m(\u001b[38;5;124m'\u001b[39m\u001b[38;5;124mc2\u001b[39m\u001b[38;5;124m'\u001b[39m,\u001b[38;5;28mtype\u001b[39m(c2),np\u001b[38;5;241m.\u001b[39mshape(c2))\n\u001b[1;32m     14\u001b[0m \u001b[38;5;28mprint\u001b[39m(\u001b[38;5;124m'\u001b[39m\u001b[38;5;124mdata\u001b[39m\u001b[38;5;124m'\u001b[39m,\u001b[38;5;28mtype\u001b[39m(data[\u001b[38;5;241m0\u001b[39m]),np\u001b[38;5;241m.\u001b[39mshape(data[\u001b[38;5;241m0\u001b[39m]))\n\u001b[0;32m---> 15\u001b[0m h \u001b[38;5;241m=\u001b[39m [\u001b[38;5;28mself\u001b[39m\u001b[38;5;241m.\u001b[39mk \u001b[38;5;241m-\u001b[39m \u001b[38;5;28mself\u001b[39m\u001b[38;5;241m.\u001b[39mtargets[i]\u001b[38;5;241m*\u001b[39m(\u001b[38;5;28;43mself\u001b[39;49m\u001b[38;5;241;43m.\u001b[39;49m\u001b[43mSSM\u001b[49m\u001b[38;5;241;43m.\u001b[39;49m\u001b[43mspace\u001b[49m\u001b[38;5;241;43m.\u001b[39;49m\u001b[43mmetric\u001b[49m\u001b[38;5;241;43m.\u001b[39;49m\u001b[43mdist\u001b[49m\u001b[43m(\u001b[49m\u001b[43mc2\u001b[49m\u001b[43m,\u001b[49m\u001b[38;5;28;43mself\u001b[39;49m\u001b[38;5;241;43m.\u001b[39;49m\u001b[43mdata\u001b[49m\u001b[43m[\u001b[49m\u001b[43mi\u001b[49m\u001b[43m]\u001b[49m\u001b[43m)\u001b[49m\u001b[38;5;241m*\u001b[39m\u001b[38;5;241m*\u001b[39m\u001b[38;5;241m2\u001b[39m \u001b[38;5;241m-\u001b[39m \u001b[38;5;28mself\u001b[39m\u001b[38;5;241m.\u001b[39mSSM\u001b[38;5;241m.\u001b[39mspace\u001b[38;5;241m.\u001b[39mmetric\u001b[38;5;241m.\u001b[39mdist(c1,\u001b[38;5;28mself\u001b[39m\u001b[38;5;241m.\u001b[39mdata[i])\u001b[38;5;241m*\u001b[39m\u001b[38;5;241m*\u001b[39m\u001b[38;5;241m2\u001b[39m) \u001b[38;5;28;01mfor\u001b[39;00m i \u001b[38;5;129;01min\u001b[39;00m \u001b[38;5;28mrange\u001b[39m(\u001b[38;5;28mlen\u001b[39m(\u001b[38;5;28mself\u001b[39m\u001b[38;5;241m.\u001b[39mdata))]\n\u001b[1;32m     16\u001b[0m \u001b[38;5;28;01mreturn\u001b[39;00m \u001b[38;5;28mself\u001b[39m\u001b[38;5;241m.\u001b[39mSSM\u001b[38;5;241m.\u001b[39mspace\u001b[38;5;241m.\u001b[39mmetric\u001b[38;5;241m.\u001b[39mdist(c1, c2)\u001b[38;5;241m*\u001b[39m\u001b[38;5;241m*\u001b[39m\u001b[38;5;241m2\u001b[39m \u001b[38;5;241m+\u001b[39m \u001b[38;5;28mself\u001b[39m\u001b[38;5;241m.\u001b[39mla\u001b[38;5;241m/\u001b[39mn\u001b[38;5;241m*\u001b[39mnp\u001b[38;5;241m.\u001b[39msum(h)\n",
      "File \u001b[0;32m~/anaconda3/envs/hackathon22/lib/python3.10/site-packages/morphomatics/manifold/FundamentalCoords.py:299\u001b[0m, in \u001b[0;36mFundamentalCoords.dist\u001b[0;34m(self, X, Y)\u001b[0m\n\u001b[1;32m    296\u001b[0m \u001b[38;5;28;01mdef\u001b[39;00m \u001b[38;5;21mdist\u001b[39m(\u001b[38;5;28mself\u001b[39m, X, Y):\n\u001b[1;32m    297\u001b[0m     \u001b[38;5;124;03m\"\"\"Returns the geodesic distance between two points p and q on the\u001b[39;00m\n\u001b[1;32m    298\u001b[0m \u001b[38;5;124;03m    manifold.\"\"\"\u001b[39;00m\n\u001b[0;32m--> 299\u001b[0m     \u001b[38;5;28;01mreturn\u001b[39;00m \u001b[38;5;28mself\u001b[39m\u001b[38;5;241m.\u001b[39mnorm(X, \u001b[38;5;28;43mself\u001b[39;49m\u001b[38;5;241;43m.\u001b[39;49m\u001b[43mlog\u001b[49m\u001b[43m(\u001b[49m\u001b[43mX\u001b[49m\u001b[43m,\u001b[49m\u001b[43m \u001b[49m\u001b[43mY\u001b[49m\u001b[43m)\u001b[49m)\n",
      "File \u001b[0;32m~/anaconda3/envs/hackathon22/lib/python3.10/site-packages/morphomatics/manifold/FundamentalCoords.py:377\u001b[0m, in \u001b[0;36mFundamentalCoords.log\u001b[0;34m(self, X, Y)\u001b[0m\n\u001b[1;32m    375\u001b[0m \u001b[38;5;28;01mdef\u001b[39;00m \u001b[38;5;21mlog\u001b[39m(\u001b[38;5;28mself\u001b[39m, X, Y):\n\u001b[1;32m    376\u001b[0m     \u001b[38;5;66;03m# disentangle coords. into rotations and stretches\u001b[39;00m\n\u001b[0;32m--> 377\u001b[0m     Cx, Ux \u001b[38;5;241m=\u001b[39m \u001b[38;5;28;43mself\u001b[39;49m\u001b[38;5;241;43m.\u001b[39;49m\u001b[43mdisentangle\u001b[49m\u001b[43m(\u001b[49m\u001b[43mX\u001b[49m\u001b[43m)\u001b[49m\n\u001b[1;32m    378\u001b[0m     Cy, Uy \u001b[38;5;241m=\u001b[39m \u001b[38;5;28mself\u001b[39m\u001b[38;5;241m.\u001b[39mdisentangle(Y)\n\u001b[1;32m    380\u001b[0m     \u001b[38;5;66;03m# alloc tangent vector\u001b[39;00m\n",
      "File \u001b[0;32m~/anaconda3/envs/hackathon22/lib/python3.10/site-packages/morphomatics/manifold/FundamentalCoords.py:109\u001b[0m, in \u001b[0;36mFundamentalCoords.disentangle\u001b[0;34m(self, c)\u001b[0m\n\u001b[1;32m    107\u001b[0m \u001b[38;5;66;03m# 2xkx3x3 array, rotations are stored in [0, :, :, :] and stretches in [1, :, :, :]\u001b[39;00m\n\u001b[1;32m    108\u001b[0m e \u001b[38;5;241m=\u001b[39m \u001b[38;5;28mint\u001b[39m(\u001b[38;5;241m0.5\u001b[39m \u001b[38;5;241m*\u001b[39m \u001b[38;5;28mself\u001b[39m\u001b[38;5;241m.\u001b[39mref\u001b[38;5;241m.\u001b[39minner_edges\u001b[38;5;241m.\u001b[39mgetnnz())\n\u001b[0;32m--> 109\u001b[0m \u001b[38;5;28;01mreturn\u001b[39;00m \u001b[43mc\u001b[49m\u001b[43m[\u001b[49m\u001b[43m:\u001b[49m\u001b[38;5;241;43m9\u001b[39;49m\u001b[38;5;241;43m*\u001b[39;49m\u001b[43me\u001b[49m\u001b[43m]\u001b[49m\u001b[38;5;241m.\u001b[39mreshape(\u001b[38;5;241m-\u001b[39m\u001b[38;5;241m1\u001b[39m, \u001b[38;5;241m3\u001b[39m, \u001b[38;5;241m3\u001b[39m), c[\u001b[38;5;241m9\u001b[39m\u001b[38;5;241m*\u001b[39me:]\u001b[38;5;241m.\u001b[39mreshape(\u001b[38;5;241m-\u001b[39m\u001b[38;5;241m1\u001b[39m, \u001b[38;5;241m2\u001b[39m, \u001b[38;5;241m2\u001b[39m)\n",
      "\u001b[0;31mIndexError\u001b[0m: invalid index to scalar variable."
     ]
    }
   ],
   "source": [
    "init = [np.random.rand(len(a)),np.random.rand(len(a))]\n",
    "print(np.shape(init))\n",
    "msvm.minim(init)"
   ]
  },
  {
   "cell_type": "code",
   "execution_count": null,
   "id": "f4918324",
   "metadata": {},
   "outputs": [],
   "source": []
  }
 ],
 "metadata": {
  "kernelspec": {
   "display_name": "Python 3 (ipykernel)",
   "language": "python",
   "name": "python3"
  },
  "language_info": {
   "codemirror_mode": {
    "name": "ipython",
    "version": 3
   },
   "file_extension": ".py",
   "mimetype": "text/x-python",
   "name": "python",
   "nbconvert_exporter": "python",
   "pygments_lexer": "ipython3",
   "version": "3.10.2"
  }
 },
 "nbformat": 4,
 "nbformat_minor": 5
}
