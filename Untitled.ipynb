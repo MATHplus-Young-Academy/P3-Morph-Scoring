{
 "cells": [
  {
   "cell_type": "code",
   "execution_count": 1,
   "id": "e000e9a4",
   "metadata": {},
   "outputs": [],
   "source": [
    "import os\n",
    "import pyvista as pv"
   ]
  },
  {
   "cell_type": "code",
   "execution_count": 2,
   "id": "c74cd592",
   "metadata": {},
   "outputs": [],
   "source": [
    "import numpy as np"
   ]
  },
  {
   "cell_type": "code",
   "execution_count": 3,
   "id": "9615506f",
   "metadata": {},
   "outputs": [],
   "source": [
    "objects = []\n",
    "count_s = 0\n",
    "for (dirpath, dirnames, filenames) in os.walk(\"./adni_hippos_hackathon/AD\"):\n",
    "    for file in filenames:\n",
    "        if file[-3:] == \"obj\":\n",
    "            path = os.sep.join([dirpath, file])\n",
    "            load = mesh_straight = pv.read(path)\n",
    "            objects.append(load)\n",
    "            count_s+=1"
   ]
  },
  {
   "cell_type": "code",
   "execution_count": 4,
   "id": "6530c3f2",
   "metadata": {},
   "outputs": [],
   "source": [
    "count_h = 0\n",
    "for (dirpath, dirnames, filenames) in os.walk(\"./adni_hippos_hackathon/CN\"):\n",
    "    for file in filenames:\n",
    "        if file[-3:] == \"obj\":\n",
    "            path = os.sep.join([dirpath, file])\n",
    "            load = mesh_helix = pv.read(path)\n",
    "            objects.append(load)\n",
    "            count_h+=1"
   ]
  },
  {
   "cell_type": "code",
   "execution_count": 5,
   "id": "b24bcc1b",
   "metadata": {},
   "outputs": [
    {
     "data": {
      "text/html": [
       "<table><tr><th>Header</th><th>Data Arrays</th></tr><tr><td>\n",
       "<table>\n",
       "<tr><th>PolyData</th><th>Information</th></tr>\n",
       "<tr><td>N Cells</td><td>4556</td></tr>\n",
       "<tr><td>N Points</td><td>2280</td></tr>\n",
       "<tr><td>X Bounds</td><td>1.151e+02, 1.298e+02</td></tr>\n",
       "<tr><td>Y Bounds</td><td>-1.251e+02, -9.377e+01</td></tr>\n",
       "<tr><td>Z Bounds</td><td>1.101e+02, 1.304e+02</td></tr>\n",
       "<tr><td>N Arrays</td><td>4</td></tr>\n",
       "</table>\n",
       "\n",
       "</td><td>\n",
       "<table>\n",
       "<tr><th>Name</th><th>Field</th><th>Type</th><th>N Comp</th><th>Min</th><th>Max</th></tr>\n",
       "<tr><td>material_0</td><td>Points</td><td>float32</td><td>2</td><td>-1.000e+00</td><td>-1.000e+00</td></tr>\n",
       "<tr><td>MaterialIds</td><td>Cells</td><td>int32</td><td>1</td><td>0.000e+00</td><td>0.000e+00</td></tr>\n",
       "<tr><td>GroupIds</td><td>Cells</td><td>float32</td><td>1</td><td>1.000e+00</td><td>1.000e+00</td></tr>\n",
       "<tr><td>MaterialNames</td><td>Fields</td><td><U10</td><td>1</td><td>nan</td><td>nan</td></tr>\n",
       "</table>\n",
       "\n",
       "</td></tr> </table>"
      ],
      "text/plain": [
       "PolyData (0x7f940fc3ada0)\n",
       "  N Cells:\t4556\n",
       "  N Points:\t2280\n",
       "  X Bounds:\t1.151e+02, 1.298e+02\n",
       "  Y Bounds:\t-1.251e+02, -9.377e+01\n",
       "  Z Bounds:\t1.101e+02, 1.304e+02\n",
       "  N Arrays:\t4"
      ]
     },
     "execution_count": 5,
     "metadata": {},
     "output_type": "execute_result"
    }
   ],
   "source": [
    "objects[0]"
   ]
  },
  {
   "cell_type": "code",
   "execution_count": 6,
   "id": "4a946e22",
   "metadata": {},
   "outputs": [],
   "source": [
    "from morphomatics.geom import Surface"
   ]
  },
  {
   "cell_type": "code",
   "execution_count": null,
   "id": "045a9b28",
   "metadata": {},
   "outputs": [],
   "source": [
    "as_surface = lambda mesh: Surface(mesh.points, mesh.faces.reshape(-1, 4)[:, 1:])\n",
    "S_straight = as_surface(mesh_straight)\n",
    "S_helix = as_surface(mesh_helix)"
   ]
  },
  {
   "cell_type": "code",
   "execution_count": 7,
   "id": "ad3c72c4",
   "metadata": {},
   "outputs": [],
   "source": [
    "from morphomatics.manifold import FundamentalCoords, PointDistributionModel, util"
   ]
  },
  {
   "cell_type": "code",
   "execution_count": null,
   "id": "72c200b7",
   "metadata": {},
   "outputs": [],
   "source": [
    "# Construct shape space\n",
    "M = FundamentalCoords(S_straight) # Replace with PointDistributionModel\n",
    "\n",
    "# map surfaces to shape space coordinates\n",
    "c_straight = M.to_coords(S_straight.v)\n",
    "c_helix = M.to_coords(S_helix.v)\n",
    "\n",
    "# perform computations, e.g. ...\n",
    "print('distance: ', M.metric.dist(c_straight, c_helix))\n",
    "\n",
    "# ... interpolate surfaces (mid-point on geodesic)\n",
    "diff = M.connec.log(c_straight, c_helix)\n",
    "mean = M.connec.exp(c_straight, 0.5*diff)"
   ]
  },
  {
   "cell_type": "code",
   "execution_count": 8,
   "id": "5fd48f5e",
   "metadata": {},
   "outputs": [
    {
     "name": "stdout",
     "output_type": "stream",
     "text": [
      "|grad|=0.2908308462189316\n",
      "|grad|=0.00018741939746994436\n",
      "|grad|=1.594484391232075e-06\n",
      "|grad|=2.0555189852011362e-08\n",
      "|grad|=3.102662647692848e-10\n",
      "|grad|=5.114147606110461e-12\n",
      "|grad|=8.900413083116155e-14\n",
      "13.264199165482013\n",
      "|grad|=0.01999867558388049\n",
      "|grad|=3.254401926093638e-05\n",
      "|grad|=3.3893282962944244e-07\n",
      "|grad|=4.5446744763848356e-09\n",
      "|grad|=6.94741038637553e-11\n",
      "|grad|=1.145907143092159e-12\n",
      "|grad|=1.9766007733245978e-14\n",
      "0.18334767172064512\n",
      "|grad|=0.03173966934029204\n",
      "|grad|=4.5107783726950064e-05\n",
      "|grad|=4.202638481390665e-07\n",
      "|grad|=5.261482008569633e-09\n",
      "|grad|=7.630477080561149e-11\n",
      "|grad|=1.1967087788770898e-12\n",
      "|grad|=1.9668269290656292e-14\n",
      "0.015700866448911166\n",
      "|grad|=0.03170254214774116\n",
      "|grad|=4.4795936594550675e-05\n",
      "|grad|=4.178410008229486e-07\n",
      "|grad|=5.233460542545062e-09\n",
      "|grad|=7.584370416596496e-11\n",
      "|grad|=1.1880120075448491e-12\n",
      "|grad|=1.949918052521208e-14\n",
      "0.000748476287218935\n",
      "tol 0.005730296524734604 reached\n",
      "|grad|=0.2967193689890635\n",
      "|grad|=0.0001791849271785518\n",
      "|grad|=1.4893478268102803e-06\n",
      "|grad|=1.8728485234882253e-08\n",
      "|grad|=2.7623012619473105e-10\n",
      "|grad|=4.466932372546299e-12\n",
      "|grad|=7.654049053964775e-14\n"
     ]
    }
   ],
   "source": [
    "from morphomatics.stats import StatisticalShapeModel\n",
    "# to Surface type\n",
    "as_surface = lambda mesh: Surface(mesh.points, mesh.faces.reshape(-1, 4)[:, 1:])\n",
    "surfaces = [as_surface(m) for m in objects]\n",
    "\n",
    "# construct model\n",
    "SSM = StatisticalShapeModel(lambda ref: FundamentalCoords(ref)) # replace me with PointDistributionModel\n",
    "SSM.construct(surfaces)"
   ]
  },
  {
   "cell_type": "code",
   "execution_count": 9,
   "id": "65c29a77",
   "metadata": {},
   "outputs": [],
   "source": [
    "from tempfile import TemporaryFile\n",
    "\n",
    "outfile = TemporaryFile()\n",
    "np.save(outfile,SSM.space.ref,allow_pickle=True)\n",
    "_ = outfile.seek(0)"
   ]
  },
  {
   "cell_type": "code",
   "execution_count": 10,
   "id": "f58254d2",
   "metadata": {},
   "outputs": [],
   "source": [
    "ref = np.load(outfile,allow_pickle=True)"
   ]
  },
  {
   "cell_type": "code",
   "execution_count": null,
   "id": "3f4d96e5",
   "metadata": {},
   "outputs": [],
   "source": [
    "SSM.coeffs[0]"
   ]
  },
  {
   "cell_type": "code",
   "execution_count": 11,
   "id": "38c7bc3b",
   "metadata": {},
   "outputs": [],
   "source": [
    "from morphomatics.stats import ExponentialBarycenter"
   ]
  },
  {
   "cell_type": "code",
   "execution_count": null,
   "id": "aa2ae83d",
   "metadata": {},
   "outputs": [],
   "source": [
    "exp = ExponentialBarycenter.compute(SSM.space,objects[:count_s])#surfaces[:count_s])#SSM.coeffs[:count_s])"
   ]
  },
  {
   "cell_type": "code",
   "execution_count": null,
   "id": "cd79eb52",
   "metadata": {},
   "outputs": [],
   "source": [
    "c_straight = SSM.to_coords(surfaces[0].v)"
   ]
  },
  {
   "cell_type": "code",
   "execution_count": null,
   "id": "c19f0a22",
   "metadata": {},
   "outputs": [],
   "source": [
    "\n",
    "mean_s = mean(surfaces[:count_s],SSM)"
   ]
  },
  {
   "cell_type": "code",
   "execution_count": null,
   "id": "46a68434",
   "metadata": {},
   "outputs": [],
   "source": [
    "def mean(surfaces,SSM):\n",
    "    coords = FundamentalCoords(surfaces)\n",
    "    return "
   ]
  },
  {
   "cell_type": "code",
   "execution_count": null,
   "id": "f749bee8",
   "metadata": {},
   "outputs": [],
   "source": []
  },
  {
   "cell_type": "code",
   "execution_count": null,
   "id": "9c3fb390",
   "metadata": {},
   "outputs": [],
   "source": [
    "import scipy"
   ]
  },
  {
   "cell_type": "code",
   "execution_count": 74,
   "id": "ff81502b",
   "metadata": {},
   "outputs": [],
   "source": [
    "class MSVM:\n",
    "    def __init__(self,SSM,targets,data,k = 0.5,la = 0.5):\n",
    "        self.SSM = SSM\n",
    "        self.targets = targets\n",
    "        self.data = [SSM.space.to_coords(surfaces[i].v)for i in range(len(data))]\n",
    "        self.k = k\n",
    "        self.la = la\n",
    "        self.n = len(self.data)\n",
    "        self.c1 = self.data[0] # class with targets 1\n",
    "        self.c2 = self.data[-1] #class with targets -1\n",
    "    \n",
    "    def mean_func(self,c1,c2):\n",
    "        #c1 = c[:int(len(c)/2)][0]\n",
    "        #print(type(c1),np.shape(c1))\n",
    "        #c2 = c[int(len(c)/2):][0]\n",
    "        print('c2',type(c2),np.shape(c2))\n",
    "        print('data',type(self.data[0]),np.shape(self.data[0]))\n",
    "        h = [self.k - self.targets[i]*(self.SSM.space.metric.dist(c2,self.data[i])**2 - self.SSM.space.metric.dist(c1,self.data[i])**2) for i in range(len(self.data))]\n",
    "        return self.SSM.space.metric.dist(c1, c2)**2 + self.la/self.n*np.sum(h)\n",
    "    \n",
    "    def minim(self,c10,c20,max_reps = 50):\n",
    "        self.c1 = c10\n",
    "        self.c2 = c20\n",
    "        for reps in range(max_reps):\n",
    "            print('reps',reps)\n",
    "            grad1 = -2*self.SSM.space.connec.log(self.c1,self.c2) + self.la/self.n*np.sum([self.targets[i]*2*SSM.space.connec.log(self.c1,self.data[i]) for i in range(self.n)])\n",
    "            self.c1 += grad1\n",
    "            grad2 = -2*self.SSM.space.connec.log(self.c2,self.c1) - self.la/self.n*np.sum([self.targets[i]*2*SSM.space.connec.log(self.c2,self.data[i]) for i in range(self.n)])\n",
    "            self.c2 += grad2\n",
    "    \n",
    "    def classify_one(self,datapoint):\n",
    "        if self.SSM.space.metric.dist(self.c1, datapoint) < self.SSM.space.metric.dist(datapoint, self.c2):\n",
    "            return 1 # belogs to c1\n",
    "        else:\n",
    "            return -1 # belogs to c2\n",
    "    \n",
    "    def classify_list(self,datalist):\n",
    "        return [classify_one(a) for a in datalist]\n",
    "    \n",
    "    def loss(self,datalist,targetlist):\n",
    "        return np.sum([classify_one(datalist[i])*targetlist[i] for i in range(len(datalist))])"
   ]
  },
  {
   "cell_type": "code",
   "execution_count": 75,
   "id": "f7f39667",
   "metadata": {},
   "outputs": [
    {
     "data": {
      "text/plain": [
       "120"
      ]
     },
     "execution_count": 75,
     "metadata": {},
     "output_type": "execute_result"
    }
   ],
   "source": [
    "count_s+count_h"
   ]
  },
  {
   "cell_type": "code",
   "execution_count": 76,
   "id": "79b58b53",
   "metadata": {},
   "outputs": [
    {
     "data": {
      "text/plain": [
       "0.3489754615752034"
      ]
     },
     "execution_count": 76,
     "metadata": {},
     "output_type": "execute_result"
    }
   ],
   "source": [
    "a = SSM.space.to_coords(surfaces[0].v)#SSM.coeffs[0]#objects[0]#surfaces[0]#\n",
    "b = SSM.space.to_coords(surfaces[1].v)#SSM.coeffs[1]#objects[1]#surfaces[1]#\n",
    "SSM.space.metric.dist(a,b)"
   ]
  },
  {
   "cell_type": "code",
   "execution_count": 77,
   "id": "b20fc090",
   "metadata": {},
   "outputs": [],
   "source": [
    "targets = [1 for _ in range(count_s)]+[-1 for _ in range(count_h)]\n",
    "data = surfaces\n",
    "msvm = MSVM(SSM,targets,data)"
   ]
  },
  {
   "cell_type": "code",
   "execution_count": 78,
   "id": "6d502981",
   "metadata": {},
   "outputs": [
    {
     "name": "stdout",
     "output_type": "stream",
     "text": [
      "c2 <class 'numpy.ndarray'> (79730,)\n",
      "data <class 'numpy.ndarray'> (79730,)\n"
     ]
    },
    {
     "data": {
      "text/plain": [
       "0.3721101030465338"
      ]
     },
     "execution_count": 78,
     "metadata": {},
     "output_type": "execute_result"
    }
   ],
   "source": [
    "#print(a.shape,b.shape)\n",
    "#l = [a,b]\n",
    "#print(len(l)/2)\n",
    "#c1 = [l[i] for i in range(1)]\n",
    "#print(np.shape(c1))\n",
    "msvm.mean_func(a,b)"
   ]
  },
  {
   "cell_type": "code",
   "execution_count": null,
   "id": "42fb8f7e",
   "metadata": {},
   "outputs": [
    {
     "name": "stdout",
     "output_type": "stream",
     "text": [
      "reps 0\n",
      "reps 1\n",
      "reps 2\n",
      "reps 3\n",
      "reps 4\n",
      "reps 5\n",
      "reps 6\n",
      "reps 7\n",
      "reps 8\n",
      "reps 9\n",
      "reps 10\n",
      "reps 11\n",
      "reps 12\n",
      "reps 13\n",
      "reps 14\n",
      "reps 15\n",
      "reps 16\n",
      "reps 17\n",
      "reps 18\n",
      "reps 19\n"
     ]
    }
   ],
   "source": [
    "init1 = SSM.space.to_coords(surfaces[0].v)\n",
    "init2 = SSM.space.to_coords(surfaces[-1].v)\n",
    "\n",
    "msvm.minim(c10=init1,c20=init2, max_reps=100)"
   ]
  },
  {
   "cell_type": "code",
   "execution_count": 88,
   "id": "f4918324",
   "metadata": {},
   "outputs": [
    {
     "data": {
      "text/plain": [
       "1"
      ]
     },
     "execution_count": 88,
     "metadata": {},
     "output_type": "execute_result"
    }
   ],
   "source": [
    "init1 = SSM.space.to_coords(surfaces[0].v)\n",
    "init2 = SSM.space.to_coords(surfaces[-1].v)\n",
    "msvm.classify_one(init1)"
   ]
  },
  {
   "cell_type": "code",
   "execution_count": 89,
   "id": "a57fe6fe",
   "metadata": {},
   "outputs": [
    {
     "data": {
      "text/plain": [
       "1"
      ]
     },
     "execution_count": 89,
     "metadata": {},
     "output_type": "execute_result"
    }
   ],
   "source": [
    "msvm.classify_one(init2)"
   ]
  },
  {
   "cell_type": "code",
   "execution_count": 90,
   "id": "f2f0dac7",
   "metadata": {},
   "outputs": [
    {
     "data": {
      "text/plain": [
       "3.6286882033612815"
      ]
     },
     "execution_count": 90,
     "metadata": {},
     "output_type": "execute_result"
    }
   ],
   "source": [
    "SSM.space.metric.dist(msvm.c1, init1)"
   ]
  },
  {
   "cell_type": "code",
   "execution_count": 91,
   "id": "c566d916",
   "metadata": {},
   "outputs": [
    {
     "data": {
      "text/plain": [
       "10.532433689352864"
      ]
     },
     "execution_count": 91,
     "metadata": {},
     "output_type": "execute_result"
    }
   ],
   "source": [
    "SSM.space.metric.dist(msvm.c2, init1)"
   ]
  },
  {
   "cell_type": "code",
   "execution_count": 92,
   "id": "44d94db8",
   "metadata": {},
   "outputs": [
    {
     "data": {
      "text/plain": [
       "3.6189876672736294"
      ]
     },
     "execution_count": 92,
     "metadata": {},
     "output_type": "execute_result"
    }
   ],
   "source": [
    "SSM.space.metric.dist(msvm.c1, init2)"
   ]
  },
  {
   "cell_type": "code",
   "execution_count": 93,
   "id": "6153b404",
   "metadata": {},
   "outputs": [
    {
     "data": {
      "text/plain": [
       "10.301864456265054"
      ]
     },
     "execution_count": 93,
     "metadata": {},
     "output_type": "execute_result"
    }
   ],
   "source": [
    "SSM.space.metric.dist(msvm.c2, init2)"
   ]
  },
  {
   "cell_type": "code",
   "execution_count": 96,
   "id": "fe60ee44",
   "metadata": {},
   "outputs": [
    {
     "data": {
      "text/plain": [
       "10.78510773706519"
      ]
     },
     "execution_count": 96,
     "metadata": {},
     "output_type": "execute_result"
    }
   ],
   "source": [
    "SSM.space.metric.dist(msvm.c1, msvm.c2)"
   ]
  },
  {
   "cell_type": "code",
   "execution_count": 95,
   "id": "818dacd6",
   "metadata": {},
   "outputs": [
    {
     "data": {
      "text/plain": [
       "0.0"
      ]
     },
     "execution_count": 95,
     "metadata": {},
     "output_type": "execute_result"
    }
   ],
   "source": [
    "SSM.space.metric.dist(msvm.c1, msvm.c1)"
   ]
  },
  {
   "cell_type": "code",
   "execution_count": null,
   "id": "8f8789a0",
   "metadata": {},
   "outputs": [],
   "source": [
    "test_objects = []\n",
    "test_count_s = 0\n",
    "for (dirpath, dirnames, filenames) in os.walk(\"./adni_hippos_hackathon/AD\"):\n",
    "    for file in filenames:\n",
    "        if file[-3:] == \"obj\":\n",
    "            path = os.sep.join([dirpath, file])\n",
    "            load = mesh_straight = pv.read(path)\n",
    "            objects.append(load)\n",
    "            count_s+=1"
   ]
  }
 ],
 "metadata": {
  "kernelspec": {
   "display_name": "Python 3 (ipykernel)",
   "language": "python",
   "name": "python3"
  },
  "language_info": {
   "codemirror_mode": {
    "name": "ipython",
    "version": 3
   },
   "file_extension": ".py",
   "mimetype": "text/x-python",
   "name": "python",
   "nbconvert_exporter": "python",
   "pygments_lexer": "ipython3",
   "version": "3.10.2"
  }
 },
 "nbformat": 4,
 "nbformat_minor": 5
}
