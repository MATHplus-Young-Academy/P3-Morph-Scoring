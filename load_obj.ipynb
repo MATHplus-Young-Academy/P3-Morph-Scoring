{
 "cells": [
  {
   "cell_type": "code",
   "execution_count": 2,
   "id": "4e10e31b",
   "metadata": {},
   "outputs": [],
   "source": [
    "import os\n",
    "import pyvista as pv"
   ]
  },
  {
   "cell_type": "code",
   "execution_count": 3,
   "id": "135ac6cd",
   "metadata": {},
   "outputs": [],
   "source": [
    "objects = []\n",
    "for (dirpath, dirnames, filenames) in os.walk(\"./adni_hippos_hackathon/AD\"):\n",
    "    for file in filenames:\n",
    "        if file[-3:] == \"obj\":\n",
    "            path = os.sep.join([dirpath, file])\n",
    "            load = mesh_straight = pv.read(path)\n",
    "            objects.append(load)"
   ]
  },
  {
   "cell_type": "code",
   "execution_count": 4,
   "id": "ff07332b",
   "metadata": {},
   "outputs": [],
   "source": [
    "for (dirpath, dirnames, filenames) in os.walk(\"./adni_hippos_hackathon/CN\"):\n",
    "    for file in filenames:\n",
    "        if file[-3:] == \"obj\":\n",
    "            path = os.sep.join([dirpath, file])\n",
    "            load = mesh_straight = pv.read(path)\n",
    "            objects.append(load)"
   ]
  },
  {
   "cell_type": "code",
   "execution_count": 5,
   "id": "2fbb40d3",
   "metadata": {},
   "outputs": [
    {
     "data": {
      "text/html": [
       "<table><tr><th>Header</th><th>Data Arrays</th></tr><tr><td>\n",
       "<table>\n",
       "<tr><th>PolyData</th><th>Information</th></tr>\n",
       "<tr><td>N Cells</td><td>4556</td></tr>\n",
       "<tr><td>N Points</td><td>2280</td></tr>\n",
       "<tr><td>X Bounds</td><td>1.158e+02, 1.337e+02</td></tr>\n",
       "<tr><td>Y Bounds</td><td>-1.296e+02, -9.322e+01</td></tr>\n",
       "<tr><td>Z Bounds</td><td>1.006e+02, 1.167e+02</td></tr>\n",
       "<tr><td>N Arrays</td><td>4</td></tr>\n",
       "</table>\n",
       "\n",
       "</td><td>\n",
       "<table>\n",
       "<tr><th>Name</th><th>Field</th><th>Type</th><th>N Comp</th><th>Min</th><th>Max</th></tr>\n",
       "<tr><td>material_0</td><td>Points</td><td>float32</td><td>2</td><td>-1.000e+00</td><td>-1.000e+00</td></tr>\n",
       "<tr><td>MaterialIds</td><td>Cells</td><td>int32</td><td>1</td><td>0.000e+00</td><td>0.000e+00</td></tr>\n",
       "<tr><td>GroupIds</td><td>Cells</td><td>float32</td><td>1</td><td>1.000e+00</td><td>1.000e+00</td></tr>\n",
       "<tr><td>MaterialNames</td><td>Fields</td><td><U10</td><td>1</td><td>nan</td><td>nan</td></tr>\n",
       "</table>\n",
       "\n",
       "</td></tr> </table>"
      ],
      "text/plain": [
       "PolyData (0x7fb7ca7150a0)\n",
       "  N Cells:\t4556\n",
       "  N Points:\t2280\n",
       "  X Bounds:\t1.158e+02, 1.337e+02\n",
       "  Y Bounds:\t-1.296e+02, -9.322e+01\n",
       "  Z Bounds:\t1.006e+02, 1.167e+02\n",
       "  N Arrays:\t4"
      ]
     },
     "execution_count": 5,
     "metadata": {},
     "output_type": "execute_result"
    }
   ],
   "source": [
    "objects[0]"
   ]
  },
  {
   "cell_type": "code",
   "execution_count": null,
   "id": "f261001a",
   "metadata": {},
   "outputs": [],
   "source": []
  }
 ],
 "metadata": {
  "kernelspec": {
   "display_name": "Python 3 (ipykernel)",
   "language": "python",
   "name": "python3"
  },
  "language_info": {
   "codemirror_mode": {
    "name": "ipython",
    "version": 3
   },
   "file_extension": ".py",
   "mimetype": "text/x-python",
   "name": "python",
   "nbconvert_exporter": "python",
   "pygments_lexer": "ipython3",
   "version": "3.8.8"
  }
 },
 "nbformat": 4,
 "nbformat_minor": 5
}
