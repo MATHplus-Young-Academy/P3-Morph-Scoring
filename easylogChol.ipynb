{
 "cells": [
  {
   "cell_type": "code",
   "execution_count": 1,
   "id": "184135bb-80c0-483b-90e7-e9b549d58990",
   "metadata": {},
   "outputs": [],
   "source": [
    "import numpy as np"
   ]
  },
  {
   "cell_type": "code",
   "execution_count": 2,
   "id": "aea3f212-017c-4aa4-9fea-8f8241815b79",
   "metadata": {},
   "outputs": [],
   "source": [
    "def rmetric(L, X, Y):\n",
    "    #  L stacked list of 'L' pos. def. 2x2 untere-dreiecks-matrix(saved as (3*n)x1, L = ['L'[0,0],'L'[1,0],'L'[1,1])\n",
    "    # 'X','Y' 2x2 untere-dreiecks-matrizen, saved as above\n",
    "    \n",
    "    # TODO: add area constant \n",
    "    diag = np.reciprocal(L**2)\n",
    "    diag[list(range(1,len(L),3))] = 1\n",
    "    \n",
    "    # TODO: Concatenate with rot. matrix\n",
    "    A = np.diag(diag) \n",
    "    \n",
    "    return X.T@A@Y"
   ]
  },
  {
   "cell_type": "code",
   "execution_count": 3,
   "id": "1fe136f6-b020-48cb-95d9-7f8ac7ee8e5f",
   "metadata": {},
   "outputs": [
    {
     "data": {
      "text/plain": [
       "85"
      ]
     },
     "execution_count": 3,
     "metadata": {},
     "output_type": "execute_result"
    }
   ],
   "source": [
    "rmetric(np.array([1,2,3,3,4,6,7,8,9]), np.array([1,2,3,3,4,6,7,8,9]),np.array([1,2,3,3,4,6,7,8,9]))"
   ]
  },
  {
   "cell_type": "code",
   "execution_count": 4,
   "id": "f92ab01c-6389-4e63-94ea-87f09d2aec1f",
   "metadata": {},
   "outputs": [],
   "source": [
    "def rexp(L,X):\n",
    "    mask = list(range(1,len(L),3))\n",
    "    cmask = np.ones(L.shape).astype(bool)\n",
    "    cmask[mask] = 0\n",
    "    E = L\n",
    "    E[mask] += X[mask]\n",
    "    E[cmask] *= np.exp(X[cmask]*np.reciprocal(L[cmask]))\n",
    "    \n",
    "    return E"
   ]
  },
  {
   "cell_type": "code",
   "execution_count": 5,
   "id": "0f8308ba-c208-4021-885b-b8cc82ece94d",
   "metadata": {},
   "outputs": [
    {
     "data": {
      "text/plain": [
       "array([ 2.71828183,  4.        ,  8.15484549,  8.15484549,  8.        ,\n",
       "       16.30969097, 19.0279728 , 16.        , 24.46453646])"
      ]
     },
     "execution_count": 5,
     "metadata": {},
     "output_type": "execute_result"
    }
   ],
   "source": [
    "rexp(np.array([1,2,3,3,4,6,7,8,9]).astype(float), np.array([1,2,3,3,4,6,7,8,9]).astype(float))"
   ]
  },
  {
   "cell_type": "code",
   "execution_count": 6,
   "id": "87ef644f-8fe2-4cf1-b58d-3ab5fc3f6459",
   "metadata": {},
   "outputs": [],
   "source": [
    "def rlog(L,X):\n",
    "    mask = list(range(1,len(L),3))\n",
    "    cmask = np.ones(L.shape).astype(bool)\n",
    "    cmask[mask] = 0\n",
    "    E = np.zeros(L.shape)\n",
    "    E[mask] = X[mask] - L[mask]\n",
    "    E[cmask] = L[cmask]*np.log(X[cmask]*np.reciprocal(L[cmask]))\n",
    "    \n",
    "    return E"
   ]
  },
  {
   "cell_type": "code",
   "execution_count": 10,
   "id": "007585fd-5be7-4068-af49-46f41f783674",
   "metadata": {},
   "outputs": [],
   "source": [
    "def Dcinvers(L,X):\n",
    "    mask1 = list(range(0, len(L), 3))\n",
    "    mask2 = list(range(1, len(L), 3))\n",
    "    mask3 = list(range(2, len(L), 3))\n",
    "    D = 2*L*X\n",
    "    D[mask3] += D[mask2]\n",
    "    D[mask2] = X[mask1]*L[mask2] + L[mask1]*X[mask2]\n",
    "\n",
    "    return D\n",
    "    "
   ]
  },
  {
   "cell_type": "code",
   "execution_count": 11,
   "id": "5b06c27e-e152-4d69-8c71-155e4f513193",
   "metadata": {},
   "outputs": [
    {
     "data": {
      "text/plain": [
       "array([  2.,   4.,  26.,  18.,  24., 104.,  98., 112., 290.])"
      ]
     },
     "execution_count": 11,
     "metadata": {},
     "output_type": "execute_result"
    }
   ],
   "source": [
    "Dcinvers(np.array([1,2,3,3,4,6,7,8,9]).astype(float), np.array([1,2,3,3,4,6,7,8,9]).astype(float))"
   ]
  },
  {
   "cell_type": "code",
   "execution_count": 17,
   "id": "350b4505-d471-43c8-b576-1ad60741545e",
   "metadata": {},
   "outputs": [],
   "source": [
    "def Cholesky(P):\n",
    "    mask1 = list(range(0, len(P), 3))\n",
    "    mask2 = list(range(1, len(P), 3))\n",
    "    mask3 = list(range(2, len(P), 3))\n",
    "    L = P\n",
    "    L[mask1] = np.sqrt(P[mask1])\n",
    "    L[mask2] = np.divide(P[mask2],L[mask1])\n",
    "    L[mask3] = np.sqrt(P[mask3]- L[mask2]**2)\n",
    "    \n",
    "    return L"
   ]
  },
  {
   "cell_type": "code",
   "execution_count": 105,
   "id": "acb4f107-5ef9-4e63-b938-b1a31028cc91",
   "metadata": {},
   "outputs": [
    {
     "name": "stderr",
     "output_type": "stream",
     "text": [
      "/tmp/ipykernel_1565/1900903308.py:8: RuntimeWarning: invalid value encountered in sqrt\n",
      "  L[mask3] = np.sqrt(P[mask3]- L[mask2]**2)\n"
     ]
    },
    {
     "data": {
      "text/plain": [
       "array([ 1.,  2., nan])"
      ]
     },
     "execution_count": 105,
     "metadata": {},
     "output_type": "execute_result"
    }
   ],
   "source": [
    "Cholesky(np.array([1,2,3]).astype(float))"
   ]
  },
  {
   "cell_type": "code",
   "execution_count": 46,
   "id": "89f6dbb5-d6f4-4406-b4da-a77f30ad1268",
   "metadata": {},
   "outputs": [],
   "source": [
    "def inv_L(L):\n",
    "    mask1 = list(range(0, len(L), 3))\n",
    "    mask2 = list(range(1, len(L), 3))\n",
    "    mask3 = list(range(2, len(L), 3))\n",
    "    IL = L\n",
    "    IL[mask1+mask3] = np.reciprocal(L[mask1+mask3])\n",
    "    IL[mask2] = -L[mask2]*IL[mask1]*IL[mask3]\n",
    "    \n",
    "    return IL"
   ]
  },
  {
   "cell_type": "code",
   "execution_count": 48,
   "id": "66856d6d-6e31-4f57-b4b3-e21ddd5babf6",
   "metadata": {},
   "outputs": [
    {
     "data": {
      "text/plain": [
       "array([ 1.        , -0.66666667,  0.33333333,  0.25      , -0.20833333,\n",
       "        0.16666667])"
      ]
     },
     "execution_count": 48,
     "metadata": {},
     "output_type": "execute_result"
    }
   ],
   "source": [
    "inv_L(np.array([1,2,3,4,5,6]).astype(float))"
   ]
  },
  {
   "cell_type": "code",
   "execution_count": 78,
   "id": "550549d8-0741-43f9-86e6-39e066b4a533",
   "metadata": {},
   "outputs": [],
   "source": [
    "def vector_to_matrix(vector, group = None):\n",
    "    lengthy_v = np.zeros(int((len(vector)/3)*4))\n",
    "    mask_without = [i for i in range(len(lengthy_v)) if i % 4 != 1]\n",
    "    mask2 = list(range(1,len(lengthy_v),4))\n",
    "    mask3 =list(range(2,len(lengthy_v),4))\n",
    "    lengthy_v[mask_without] = vector\n",
    "    if group == 'sym':\n",
    "        lengthy_v[mask2] = lengthy_v[mask3]\n",
    "        \n",
    "    return np.reshape(lengthy_v,(-1,2,2), order = 'A')"
   ]
  },
  {
   "cell_type": "code",
   "execution_count": 75,
   "id": "6ce0faca-9e9a-49ef-be04-62d9ab354dae",
   "metadata": {},
   "outputs": [],
   "source": [
    "def matrix_to_vector(matrix):\n",
    "    lengthy_v = np.reshape(matrix, (-1), order = 'A')\n",
    "    mask_without = [i for i in range(len(lengthy_v)) if i % 4 != 1]\n",
    "    v = lengthy_v[mask_without]\n",
    "    \n",
    "    return v"
   ]
  },
  {
   "cell_type": "code",
   "execution_count": 76,
   "id": "401fee83-8d2b-44d7-877d-506f97dd6eb4",
   "metadata": {},
   "outputs": [
    {
     "name": "stdout",
     "output_type": "stream",
     "text": [
      "[[[1. 0.]\n",
      "  [2. 3.]]\n",
      "\n",
      " [[3. 0.]\n",
      "  [4. 6.]]\n",
      "\n",
      " [[7. 0.]\n",
      "  [8. 9.]]]\n",
      "[[[  1.   0.]\n",
      "  [  8.   9.]]\n",
      "\n",
      " [[  9.   0.]\n",
      "  [ 36.  36.]]\n",
      "\n",
      " [[ 49.   0.]\n",
      "  [128.  81.]]]\n"
     ]
    }
   ],
   "source": [
    "a = vector_to_matrix(np.array([1,2,3,3,4,6,7,8,9]).astype(float))\n",
    "b = a\n",
    "print(a)\n",
    "c = a @ b\n",
    "print(c)"
   ]
  },
  {
   "cell_type": "code",
   "execution_count": 103,
   "id": "434dd460-926f-4309-8d67-5d2990eb20eb",
   "metadata": {},
   "outputs": [],
   "source": [
    "def Dc(P,W):\n",
    "    L = vector_to_matrix(Cholesky(P))\n",
    "    print(Cholesky(P))\n",
    "    Linv = np.linalg.inv(L)\n",
    "    print(Linv)\n",
    "    W = vector_to_matrix(W, group = 'sym')\n",
    "    print(Linv.transpose(0,2,1).shape)\n",
    "    inner = Linv@W@np.transpose(Linv, axes= (0,2,1))\n",
    "    vecInner = matrix_to_vector(inner)\n",
    "    mask1 = list(range(0, len(vecInner), 3))\n",
    "    mask3 = list(range(2, len(vecInner), 3))\n",
    "    vecInner[mask1+mask3] /= 2\n",
    "    inner = vector_to_matrix(vecInner)\n",
    "    \n",
    "    D = L@inner\n",
    "\n",
    "    return matrix_to_vector(D)"
   ]
  },
  {
   "cell_type": "code",
   "execution_count": 106,
   "id": "3ef497c1-d48d-436f-be1d-694d6e0d3f21",
   "metadata": {},
   "outputs": [
    {
     "name": "stdout",
     "output_type": "stream",
     "text": [
      "[1.         2.                nan 1.31607401 1.75476535        nan\n",
      " 1.62657656 1.85894464        nan]\n",
      "[[[nan nan]\n",
      "  [nan nan]]\n",
      "\n",
      " [[nan nan]\n",
      "  [nan nan]]\n",
      "\n",
      " [[nan nan]\n",
      "  [nan nan]]]\n",
      "(3, 2, 2)\n"
     ]
    },
    {
     "name": "stderr",
     "output_type": "stream",
     "text": [
      "/tmp/ipykernel_1565/1900903308.py:8: RuntimeWarning: invalid value encountered in sqrt\n",
      "  L[mask3] = np.sqrt(P[mask3]- L[mask2]**2)\n"
     ]
    },
    {
     "data": {
      "text/plain": [
       "array([nan, nan, nan, nan, nan, nan, nan, nan, nan])"
      ]
     },
     "execution_count": 106,
     "metadata": {},
     "output_type": "execute_result"
    }
   ],
   "source": [
    "Dc(np.array([1,2,1,3,4,1,7,8,1]).astype(float), np.array([1,2,1,3,4,1,7,8,1]).astype(float))"
   ]
  },
  {
   "cell_type": "code",
   "execution_count": null,
   "id": "a2403803-527d-4fac-a8da-45386a1fb42b",
   "metadata": {},
   "outputs": [],
   "source": []
  }
 ],
 "metadata": {
  "kernelspec": {
   "display_name": "Python 3 (ipykernel)",
   "language": "python",
   "name": "python3"
  },
  "language_info": {
   "codemirror_mode": {
    "name": "ipython",
    "version": 3
   },
   "file_extension": ".py",
   "mimetype": "text/x-python",
   "name": "python",
   "nbconvert_exporter": "python",
   "pygments_lexer": "ipython3",
   "version": "3.9.10"
  }
 },
 "nbformat": 4,
 "nbformat_minor": 5
}
