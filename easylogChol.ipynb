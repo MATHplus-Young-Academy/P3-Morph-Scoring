{
 "cells": [
  {
   "cell_type": "code",
   "execution_count": 1,
   "id": "184135bb-80c0-483b-90e7-e9b549d58990",
   "metadata": {},
   "outputs": [],
   "source": [
    "import numpy as np"
   ]
  },
  {
   "cell_type": "code",
   "execution_count": 17,
   "id": "aea3f212-017c-4aa4-9fea-8f8241815b79",
   "metadata": {},
   "outputs": [],
   "source": [
    "def rmetric(L, X, Y):\n",
    "    #  L stacked list of 'L' pos. def. 2x2 untere-dreiecks-matrix(saved as (3*n)x1, L = ['L'[0,0],'L'[1,0],'L'[1,1])\n",
    "    # 'X','Y' 2x2 untere-dreiecks-matrizen, saved as above\n",
    "    \n",
    "    # TODO: add area constant \n",
    "    diag = np.reciprocal(L**2)\n",
    "    diag[list(range(1,len(L),3))] = 1\n",
    "    \n",
    "    # TODO: Concatenate with rot. matrix\n",
    "    A = np.diag(diag) \n",
    "    \n",
    "    return X.T@A@Y"
   ]
  },
  {
   "cell_type": "code",
   "execution_count": 16,
   "id": "1fe136f6-b020-48cb-95d9-7f8ac7ee8e5f",
   "metadata": {},
   "outputs": [
    {
     "data": {
      "text/plain": [
       "85"
      ]
     },
     "execution_count": 16,
     "metadata": {},
     "output_type": "execute_result"
    }
   ],
   "source": [
    "rmetric(np.array([1,2,3,3,4,6,7,8,9]), np.array([1,2,3,3,4,6,7,8,9]),np.array([1,2,3,3,4,6,7,8,9]))"
   ]
  },
  {
   "cell_type": "code",
   "execution_count": 30,
   "id": "f92ab01c-6389-4e63-94ea-87f09d2aec1f",
   "metadata": {},
   "outputs": [],
   "source": [
    "def rexp(L,X):\n",
    "    mask = list(range(1,len(L),3))\n",
    "    cmask = np.ones(L.shape).astype(bool)\n",
    "    cmask[mask] = 0\n",
    "    E = L\n",
    "    E[mask] += X[mask]\n",
    "    E[cmask] *= np.exp(X[cmask]*np.reciprocal(L[cmask]))\n",
    "    \n",
    "    return E"
   ]
  },
  {
   "cell_type": "code",
   "execution_count": 31,
   "id": "0f8308ba-c208-4021-885b-b8cc82ece94d",
   "metadata": {},
   "outputs": [
    {
     "data": {
      "text/plain": [
       "array([ 2.71828183,  4.        ,  8.15484549,  8.15484549,  8.        ,\n",
       "       16.30969097, 19.0279728 , 16.        , 24.46453646])"
      ]
     },
     "execution_count": 31,
     "metadata": {},
     "output_type": "execute_result"
    }
   ],
   "source": [
    "rexp(np.array([1,2,3,3,4,6,7,8,9]).astype(float), np.array([1,2,3,3,4,6,7,8,9]).astype(float))"
   ]
  },
  {
   "cell_type": "code",
   "execution_count": 36,
   "id": "87ef644f-8fe2-4cf1-b58d-3ab5fc3f6459",
   "metadata": {},
   "outputs": [],
   "source": [
    "def rlog(L,X):\n",
    "    mask = list(range(1,len(L),3))\n",
    "    cmask = np.ones(L.shape).astype(bool)\n",
    "    cmask[mask] = 0\n",
    "    E = np.zeros(L.shape)\n",
    "    E[mask] = X[mask] - L[mask]\n",
    "    E[cmask] = L[cmask]*np.log(X[cmask]*np.reciprocal(L[cmask]))\n",
    "    \n",
    "    return E"
   ]
  },
  {
   "cell_type": "code",
   "execution_count": null,
   "id": "007585fd-5be7-4068-af49-46f41f783674",
   "metadata": {},
   "outputs": [],
   "source": []
  }
 ],
 "metadata": {
  "kernelspec": {
   "display_name": "Python 3 (ipykernel)",
   "language": "python",
   "name": "python3"
  },
  "language_info": {
   "codemirror_mode": {
    "name": "ipython",
    "version": 3
   },
   "file_extension": ".py",
   "mimetype": "text/x-python",
   "name": "python",
   "nbconvert_exporter": "python",
   "pygments_lexer": "ipython3",
   "version": "3.9.10"
  }
 },
 "nbformat": 4,
 "nbformat_minor": 5
}
